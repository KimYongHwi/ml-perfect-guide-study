{
  "nbformat": 4,
  "nbformat_minor": 0,
  "metadata": {
    "colab": {
      "name": "3장. pandas.ipynb",
      "provenance": [],
      "collapsed_sections": [],
      "authorship_tag": "ABX9TyNfrPsj8pePHibXhJBjeJTt",
      "include_colab_link": true
    },
    "kernelspec": {
      "name": "python3",
      "display_name": "Python 3"
    },
    "language_info": {
      "name": "python"
    }
  },
  "cells": [
    {
      "cell_type": "markdown",
      "metadata": {
        "id": "view-in-github",
        "colab_type": "text"
      },
      "source": [
        "<a href=\"https://colab.research.google.com/github/KimYongHwi/ml_definitive_guide_study/blob/main/3%EC%9E%A5_pandas.ipynb\" target=\"_parent\"><img src=\"https://colab.research.google.com/assets/colab-badge.svg\" alt=\"Open In Colab\"/></a>"
      ]
    },
    {
      "cell_type": "markdown",
      "metadata": {
        "id": "_W2tPjySnHMZ"
      },
      "source": [
        "### Pandas\n",
        "- 판다스는 파이썬에서 데이터 처리를 위해 존재하는 가장 있기 있는 라이브러리\n",
        "- 일반적으로 대부분의 데이터 세트는 2차원 데이터로 행과 열로 구성돼 있다\n",
        "- 행과 열로 이루어진 2차원 데이터를 효율적으로 가공/처리할 수 있는 다양하고 훌륭한 기능 제공"
      ]
    },
    {
      "cell_type": "markdown",
      "metadata": {
        "id": "wsxfFLxUn7Uk"
      },
      "source": [
        "#### 주요 구성요소\n",
        "- DataFrame: 행과 열을 가지고 있는 2차원 데이터셋 (index를 가지고 있음)\n",
        "- Series: 1개의 열 값으로만 구성된 1차원 데이터셋"
      ]
    },
    {
      "cell_type": "code",
      "metadata": {
        "id": "loKf2IKByn6R",
        "colab": {
          "base_uri": "https://localhost:8080/"
        },
        "outputId": "a7cb5fdc-eb8f-44de-c347-bfc3ac16b966"
      },
      "source": [
        "from google.colab import auth\n",
        "auth.authenticate_user()\n",
        "\n",
        "from google.colab import drive\n",
        "drive.mount('/content/drive')"
      ],
      "execution_count": 2,
      "outputs": [
        {
          "output_type": "stream",
          "text": [
            "Drive already mounted at /content/drive; to attempt to forcibly remount, call drive.mount(\"/content/drive\", force_remount=True).\n"
          ],
          "name": "stdout"
        }
      ]
    },
    {
      "cell_type": "code",
      "metadata": {
        "id": "F9lKuJV7pVte"
      },
      "source": [
        "import os\n",
        "from pathlib import Path"
      ],
      "execution_count": 3,
      "outputs": []
    },
    {
      "cell_type": "code",
      "metadata": {
        "id": "j3-8T2Ceo3at",
        "colab": {
          "base_uri": "https://localhost:8080/"
        },
        "outputId": "377ce1ec-462b-4044-b6a1-a34026433593"
      },
      "source": [
        "folder = \"ml_definitive_guide/data/titanic\"\n",
        "\n",
        "base_path = Path(\"/content/drive/My Drive/\")\n",
        "project_path = base_path / folder\n",
        "os.chdir(project_path)\n",
        "\n",
        "for x in list(project_path.glob(\"*\")):\n",
        "    if x.is_dir():\n",
        "        dir_name = str(x.relative_to(project_path))\n",
        "        os.rename(dir_name, dir_name.split(\" \", 1)[0])\n",
        "\n",
        "print(f\"현재 디렉토리 위치: {os.getcwd()}\")"
      ],
      "execution_count": 4,
      "outputs": [
        {
          "output_type": "stream",
          "text": [
            "현재 디렉토리 위치: /content/drive/My Drive/ml_definitive_guide/data/titanic\n"
          ],
          "name": "stdout"
        }
      ]
    },
    {
      "cell_type": "code",
      "metadata": {
        "id": "XwHUdG1VpIV0"
      },
      "source": [
        "import pandas as pd"
      ],
      "execution_count": 5,
      "outputs": []
    },
    {
      "cell_type": "markdown",
      "metadata": {
        "id": "ZvFA2ZJBsEdX"
      },
      "source": [
        "- read_scv를 이용하여 csv 파일을 편리하게 DataFrame으로 로딩"
      ]
    },
    {
      "cell_type": "code",
      "metadata": {
        "id": "dokmQToVsClX",
        "colab": {
          "base_uri": "https://localhost:8080/"
        },
        "outputId": "470d6949-59a4-475d-925c-3779e77a57b3"
      },
      "source": [
        "titanic_df = pd.read_csv('./train.csv')\n",
        "print('titanic 변수 type:',type(titanic_df))"
      ],
      "execution_count": 6,
      "outputs": [
        {
          "output_type": "stream",
          "text": [
            "titanic 변수 type: <class 'pandas.core.frame.DataFrame'>\n"
          ],
          "name": "stdout"
        }
      ]
    },
    {
      "cell_type": "markdown",
      "metadata": {
        "id": "EOkGFmvGsXb9"
      },
      "source": [
        "- head를 이용하여 DataFrame의 맨 앞 일부 데이터만 추출"
      ]
    },
    {
      "cell_type": "code",
      "metadata": {
        "id": "8YSBbgidsOJI",
        "colab": {
          "base_uri": "https://localhost:8080/",
          "height": 142
        },
        "outputId": "2ca0a0ae-757a-4ef1-d620-f3272a9cd06b"
      },
      "source": [
        "titanic_df.head(3)"
      ],
      "execution_count": 7,
      "outputs": [
        {
          "output_type": "execute_result",
          "data": {
            "text/html": [
              "<div>\n",
              "<style scoped>\n",
              "    .dataframe tbody tr th:only-of-type {\n",
              "        vertical-align: middle;\n",
              "    }\n",
              "\n",
              "    .dataframe tbody tr th {\n",
              "        vertical-align: top;\n",
              "    }\n",
              "\n",
              "    .dataframe thead th {\n",
              "        text-align: right;\n",
              "    }\n",
              "</style>\n",
              "<table border=\"1\" class=\"dataframe\">\n",
              "  <thead>\n",
              "    <tr style=\"text-align: right;\">\n",
              "      <th></th>\n",
              "      <th>PassengerId</th>\n",
              "      <th>Survived</th>\n",
              "      <th>Pclass</th>\n",
              "      <th>Name</th>\n",
              "      <th>Sex</th>\n",
              "      <th>Age</th>\n",
              "      <th>SibSp</th>\n",
              "      <th>Parch</th>\n",
              "      <th>Ticket</th>\n",
              "      <th>Fare</th>\n",
              "      <th>Cabin</th>\n",
              "      <th>Embarked</th>\n",
              "    </tr>\n",
              "  </thead>\n",
              "  <tbody>\n",
              "    <tr>\n",
              "      <th>0</th>\n",
              "      <td>1</td>\n",
              "      <td>0</td>\n",
              "      <td>3</td>\n",
              "      <td>Braund, Mr. Owen Harris</td>\n",
              "      <td>male</td>\n",
              "      <td>22.0</td>\n",
              "      <td>1</td>\n",
              "      <td>0</td>\n",
              "      <td>A/5 21171</td>\n",
              "      <td>7.2500</td>\n",
              "      <td>NaN</td>\n",
              "      <td>S</td>\n",
              "    </tr>\n",
              "    <tr>\n",
              "      <th>1</th>\n",
              "      <td>2</td>\n",
              "      <td>1</td>\n",
              "      <td>1</td>\n",
              "      <td>Cumings, Mrs. John Bradley (Florence Briggs Th...</td>\n",
              "      <td>female</td>\n",
              "      <td>38.0</td>\n",
              "      <td>1</td>\n",
              "      <td>0</td>\n",
              "      <td>PC 17599</td>\n",
              "      <td>71.2833</td>\n",
              "      <td>C85</td>\n",
              "      <td>C</td>\n",
              "    </tr>\n",
              "    <tr>\n",
              "      <th>2</th>\n",
              "      <td>3</td>\n",
              "      <td>1</td>\n",
              "      <td>3</td>\n",
              "      <td>Heikkinen, Miss. Laina</td>\n",
              "      <td>female</td>\n",
              "      <td>26.0</td>\n",
              "      <td>0</td>\n",
              "      <td>0</td>\n",
              "      <td>STON/O2. 3101282</td>\n",
              "      <td>7.9250</td>\n",
              "      <td>NaN</td>\n",
              "      <td>S</td>\n",
              "    </tr>\n",
              "  </tbody>\n",
              "</table>\n",
              "</div>"
            ],
            "text/plain": [
              "   PassengerId  Survived  Pclass  ...     Fare Cabin  Embarked\n",
              "0            1         0       3  ...   7.2500   NaN         S\n",
              "1            2         1       1  ...  71.2833   C85         C\n",
              "2            3         1       3  ...   7.9250   NaN         S\n",
              "\n",
              "[3 rows x 12 columns]"
            ]
          },
          "metadata": {
            "tags": []
          },
          "execution_count": 7
        }
      ]
    },
    {
      "cell_type": "markdown",
      "metadata": {
        "id": "wCNfgSKstWUV"
      },
      "source": [
        "- DataFrame 생성"
      ]
    },
    {
      "cell_type": "code",
      "metadata": {
        "id": "-1ltfh5dsdlY",
        "colab": {
          "base_uri": "https://localhost:8080/"
        },
        "outputId": "f0f2b76b-105e-434e-a74a-3c694c0d6d18"
      },
      "source": [
        "dic1 = {\n",
        "    'Name': ['Chulmin', 'Enukyung', 'Jinwoong', 'Soobeom'],\n",
        "    'Year': [2011, 2016, 2015, 2015],\n",
        "    'Gender': ['Male', 'Female', 'Male', 'Male']\n",
        "}\n",
        "\n",
        "# 딕셔너리를 DataFrame으로 변환\n",
        "data_df = pd.DataFrame(dic1)\n",
        "print(data_df)\n",
        "print('#' * 30)\n",
        "\n",
        "# 새로운 컬럼명을 추가\n",
        "data_df = pd.DataFrame(dic1, columns=['Name', 'Year', \"Gender\", 'Age'])\n",
        "print(data_df)\n",
        "print('#' * 30)\n",
        "\n",
        "# 인덱스를 새로운 값으로 할당\n",
        "data_df = pd.DataFrame(dic1, index=['one', 'two', 'three', 'four'])\n",
        "print(data_df)\n",
        "print('#' * 30)"
      ],
      "execution_count": 8,
      "outputs": [
        {
          "output_type": "stream",
          "text": [
            "       Name  Year  Gender\n",
            "0   Chulmin  2011    Male\n",
            "1  Enukyung  2016  Female\n",
            "2  Jinwoong  2015    Male\n",
            "3   Soobeom  2015    Male\n",
            "##############################\n",
            "       Name  Year  Gender  Age\n",
            "0   Chulmin  2011    Male  NaN\n",
            "1  Enukyung  2016  Female  NaN\n",
            "2  Jinwoong  2015    Male  NaN\n",
            "3   Soobeom  2015    Male  NaN\n",
            "##############################\n",
            "           Name  Year  Gender\n",
            "one     Chulmin  2011    Male\n",
            "two    Enukyung  2016  Female\n",
            "three  Jinwoong  2015    Male\n",
            "four    Soobeom  2015    Male\n",
            "##############################\n"
          ],
          "name": "stdout"
        }
      ]
    },
    {
      "cell_type": "markdown",
      "metadata": {
        "id": "J4nANTMAuvQK"
      },
      "source": [
        "- DataFrame의 컬럼명과 인덱스"
      ]
    },
    {
      "cell_type": "code",
      "metadata": {
        "id": "o6f3A0YhuFuz",
        "colab": {
          "base_uri": "https://localhost:8080/"
        },
        "outputId": "34c97c1a-447d-491c-8cca-ba0c9fda2dc0"
      },
      "source": [
        "print('columns:', titanic_df.columns)\n",
        "print('index:', titanic_df.index)\n",
        "print('index value:', titanic_df.index.values[0:3])"
      ],
      "execution_count": 9,
      "outputs": [
        {
          "output_type": "stream",
          "text": [
            "columns: Index(['PassengerId', 'Survived', 'Pclass', 'Name', 'Sex', 'Age', 'SibSp',\n",
            "       'Parch', 'Ticket', 'Fare', 'Cabin', 'Embarked'],\n",
            "      dtype='object')\n",
            "index: RangeIndex(start=0, stop=891, step=1)\n",
            "index value: [0 1 2]\n"
          ],
          "name": "stdout"
        }
      ]
    },
    {
      "cell_type": "markdown",
      "metadata": {
        "id": "FMELVRhRvY0j"
      },
      "source": [
        "- DataFrame에서 Series 추출 및 DataFrame 필터링 추출"
      ]
    },
    {
      "cell_type": "code",
      "metadata": {
        "id": "M_4__Jswu7_K",
        "colab": {
          "base_uri": "https://localhost:8080/"
        },
        "outputId": "d4661c0f-d987-4ea4-eecb-faa4931b18aa"
      },
      "source": [
        "# DataFrame 객체에서 []연산자내에 한개의 컬럼만 입력하면 Series 객체를 반환\n",
        "series = titanic_df['Name']\n",
        "print(series.head(3))\n",
        "print('## type:', type(series))\n",
        "\n",
        "# DataFrame객체에서 []연산자내에 여러개의 컬럼을 리스트로 입력하면 그 컬럼들로 구성된 DataFrame 반환\n",
        "filtered_df = titanic_df[['Name', 'Age']]\n",
        "print(filtered_df.head(3))\n",
        "print('## type:', type(filtered_df))\n",
        "\n",
        "# DataFrame객체에서 []연산자내에 한개의 컬럼을 리스트로 입력하면 한캐의 컬럼으로 구성된 DataFrame 반환\n",
        "one_col_df = titanic_df[['Name']]\n",
        "print(one_col_df.head(3))\n",
        "print('## type:', type(one_col_df))\n",
        "\n"
      ],
      "execution_count": 10,
      "outputs": [
        {
          "output_type": "stream",
          "text": [
            "0                              Braund, Mr. Owen Harris\n",
            "1    Cumings, Mrs. John Bradley (Florence Briggs Th...\n",
            "2                               Heikkinen, Miss. Laina\n",
            "Name: Name, dtype: object\n",
            "## type: <class 'pandas.core.series.Series'>\n",
            "                                                Name   Age\n",
            "0                            Braund, Mr. Owen Harris  22.0\n",
            "1  Cumings, Mrs. John Bradley (Florence Briggs Th...  38.0\n",
            "2                             Heikkinen, Miss. Laina  26.0\n",
            "## type: <class 'pandas.core.frame.DataFrame'>\n",
            "                                                Name\n",
            "0                            Braund, Mr. Owen Harris\n",
            "1  Cumings, Mrs. John Bradley (Florence Briggs Th...\n",
            "2                             Heikkinen, Miss. Laina\n",
            "## type: <class 'pandas.core.frame.DataFrame'>\n"
          ],
          "name": "stdout"
        }
      ]
    },
    {
      "cell_type": "markdown",
      "metadata": {
        "id": "hmzDeqvswP30"
      },
      "source": [
        "- shape"
      ]
    },
    {
      "cell_type": "code",
      "metadata": {
        "id": "AQ8BfYHJvgLz",
        "colab": {
          "base_uri": "https://localhost:8080/"
        },
        "outputId": "0c1da097-8684-479f-c7a2-11c07c462219"
      },
      "source": [
        "print('DataFrame 크기:', titanic_df.shape)"
      ],
      "execution_count": 11,
      "outputs": [
        {
          "output_type": "stream",
          "text": [
            "DataFrame 크기: (891, 12)\n"
          ],
          "name": "stdout"
        }
      ]
    },
    {
      "cell_type": "markdown",
      "metadata": {
        "id": "VYt3UFn_wXKL"
      },
      "source": [
        "- info: DataFrame내의 컬럼명, 데이터 타입, Null건수, 데이터 건수 정보를 제공"
      ]
    },
    {
      "cell_type": "code",
      "metadata": {
        "id": "sB1kYiV2wVvt",
        "colab": {
          "base_uri": "https://localhost:8080/"
        },
        "outputId": "416df3d5-cefc-43e4-a3ef-f1860aa97186"
      },
      "source": [
        "titanic_df.info()"
      ],
      "execution_count": 12,
      "outputs": [
        {
          "output_type": "stream",
          "text": [
            "<class 'pandas.core.frame.DataFrame'>\n",
            "RangeIndex: 891 entries, 0 to 890\n",
            "Data columns (total 12 columns):\n",
            " #   Column       Non-Null Count  Dtype  \n",
            "---  ------       --------------  -----  \n",
            " 0   PassengerId  891 non-null    int64  \n",
            " 1   Survived     891 non-null    int64  \n",
            " 2   Pclass       891 non-null    int64  \n",
            " 3   Name         891 non-null    object \n",
            " 4   Sex          891 non-null    object \n",
            " 5   Age          714 non-null    float64\n",
            " 6   SibSp        891 non-null    int64  \n",
            " 7   Parch        891 non-null    int64  \n",
            " 8   Ticket       891 non-null    object \n",
            " 9   Fare         891 non-null    float64\n",
            " 10  Cabin        204 non-null    object \n",
            " 11  Embarked     889 non-null    object \n",
            "dtypes: float64(2), int64(5), object(5)\n",
            "memory usage: 83.7+ KB\n"
          ],
          "name": "stdout"
        }
      ]
    },
    {
      "cell_type": "markdown",
      "metadata": {
        "id": "JAtWtInjwfqk"
      },
      "source": [
        "- describe: 데이터들의 평균, 표준편차, 4분위 분포도를 제공(숫자형 컬럼들에 대해서 해당 정보를 제공)"
      ]
    },
    {
      "cell_type": "code",
      "metadata": {
        "id": "qtt4dvh2wePZ",
        "colab": {
          "base_uri": "https://localhost:8080/",
          "height": 297
        },
        "outputId": "ee021a45-35d8-4667-c4b6-83a9258c4f55"
      },
      "source": [
        "titanic_df.describe()"
      ],
      "execution_count": 13,
      "outputs": [
        {
          "output_type": "execute_result",
          "data": {
            "text/html": [
              "<div>\n",
              "<style scoped>\n",
              "    .dataframe tbody tr th:only-of-type {\n",
              "        vertical-align: middle;\n",
              "    }\n",
              "\n",
              "    .dataframe tbody tr th {\n",
              "        vertical-align: top;\n",
              "    }\n",
              "\n",
              "    .dataframe thead th {\n",
              "        text-align: right;\n",
              "    }\n",
              "</style>\n",
              "<table border=\"1\" class=\"dataframe\">\n",
              "  <thead>\n",
              "    <tr style=\"text-align: right;\">\n",
              "      <th></th>\n",
              "      <th>PassengerId</th>\n",
              "      <th>Survived</th>\n",
              "      <th>Pclass</th>\n",
              "      <th>Age</th>\n",
              "      <th>SibSp</th>\n",
              "      <th>Parch</th>\n",
              "      <th>Fare</th>\n",
              "    </tr>\n",
              "  </thead>\n",
              "  <tbody>\n",
              "    <tr>\n",
              "      <th>count</th>\n",
              "      <td>891.000000</td>\n",
              "      <td>891.000000</td>\n",
              "      <td>891.000000</td>\n",
              "      <td>714.000000</td>\n",
              "      <td>891.000000</td>\n",
              "      <td>891.000000</td>\n",
              "      <td>891.000000</td>\n",
              "    </tr>\n",
              "    <tr>\n",
              "      <th>mean</th>\n",
              "      <td>446.000000</td>\n",
              "      <td>0.383838</td>\n",
              "      <td>2.308642</td>\n",
              "      <td>29.699118</td>\n",
              "      <td>0.523008</td>\n",
              "      <td>0.381594</td>\n",
              "      <td>32.204208</td>\n",
              "    </tr>\n",
              "    <tr>\n",
              "      <th>std</th>\n",
              "      <td>257.353842</td>\n",
              "      <td>0.486592</td>\n",
              "      <td>0.836071</td>\n",
              "      <td>14.526497</td>\n",
              "      <td>1.102743</td>\n",
              "      <td>0.806057</td>\n",
              "      <td>49.693429</td>\n",
              "    </tr>\n",
              "    <tr>\n",
              "      <th>min</th>\n",
              "      <td>1.000000</td>\n",
              "      <td>0.000000</td>\n",
              "      <td>1.000000</td>\n",
              "      <td>0.420000</td>\n",
              "      <td>0.000000</td>\n",
              "      <td>0.000000</td>\n",
              "      <td>0.000000</td>\n",
              "    </tr>\n",
              "    <tr>\n",
              "      <th>25%</th>\n",
              "      <td>223.500000</td>\n",
              "      <td>0.000000</td>\n",
              "      <td>2.000000</td>\n",
              "      <td>20.125000</td>\n",
              "      <td>0.000000</td>\n",
              "      <td>0.000000</td>\n",
              "      <td>7.910400</td>\n",
              "    </tr>\n",
              "    <tr>\n",
              "      <th>50%</th>\n",
              "      <td>446.000000</td>\n",
              "      <td>0.000000</td>\n",
              "      <td>3.000000</td>\n",
              "      <td>28.000000</td>\n",
              "      <td>0.000000</td>\n",
              "      <td>0.000000</td>\n",
              "      <td>14.454200</td>\n",
              "    </tr>\n",
              "    <tr>\n",
              "      <th>75%</th>\n",
              "      <td>668.500000</td>\n",
              "      <td>1.000000</td>\n",
              "      <td>3.000000</td>\n",
              "      <td>38.000000</td>\n",
              "      <td>1.000000</td>\n",
              "      <td>0.000000</td>\n",
              "      <td>31.000000</td>\n",
              "    </tr>\n",
              "    <tr>\n",
              "      <th>max</th>\n",
              "      <td>891.000000</td>\n",
              "      <td>1.000000</td>\n",
              "      <td>3.000000</td>\n",
              "      <td>80.000000</td>\n",
              "      <td>8.000000</td>\n",
              "      <td>6.000000</td>\n",
              "      <td>512.329200</td>\n",
              "    </tr>\n",
              "  </tbody>\n",
              "</table>\n",
              "</div>"
            ],
            "text/plain": [
              "       PassengerId    Survived      Pclass  ...       SibSp       Parch        Fare\n",
              "count   891.000000  891.000000  891.000000  ...  891.000000  891.000000  891.000000\n",
              "mean    446.000000    0.383838    2.308642  ...    0.523008    0.381594   32.204208\n",
              "std     257.353842    0.486592    0.836071  ...    1.102743    0.806057   49.693429\n",
              "min       1.000000    0.000000    1.000000  ...    0.000000    0.000000    0.000000\n",
              "25%     223.500000    0.000000    2.000000  ...    0.000000    0.000000    7.910400\n",
              "50%     446.000000    0.000000    3.000000  ...    0.000000    0.000000   14.454200\n",
              "75%     668.500000    1.000000    3.000000  ...    1.000000    0.000000   31.000000\n",
              "max     891.000000    1.000000    3.000000  ...    8.000000    6.000000  512.329200\n",
              "\n",
              "[8 rows x 7 columns]"
            ]
          },
          "metadata": {
            "tags": []
          },
          "execution_count": 13
        }
      ]
    },
    {
      "cell_type": "markdown",
      "metadata": {
        "id": "YYGirvGKwrr3"
      },
      "source": [
        "- value_counts\n",
        "  - 동일한 개별 데이터 값이 몇건이 있는지 정보를 제공\n",
        "  - 개별 데이터값의 분포도를 제공\n",
        "  - Series 객체에서만 호출 될 수 있으므로 반드시 DataFrame을 단일 컬럼으로 입력하여 Series로 변환한 뒤 호출\n",
        "  "
      ]
    },
    {
      "cell_type": "code",
      "metadata": {
        "id": "jcHSxyIXwo-J",
        "colab": {
          "base_uri": "https://localhost:8080/"
        },
        "outputId": "826be619-f02b-4e21-c337-9a6f6da40d89"
      },
      "source": [
        "value_counts = titanic_df['Pclass'].value_counts()\n",
        "print(type(value_counts))\n",
        "print(value_counts.sort_index())"
      ],
      "execution_count": 14,
      "outputs": [
        {
          "output_type": "stream",
          "text": [
            "<class 'pandas.core.series.Series'>\n",
            "1    216\n",
            "2    184\n",
            "3    491\n",
            "Name: Pclass, dtype: int64\n"
          ],
          "name": "stdout"
        }
      ]
    },
    {
      "cell_type": "code",
      "metadata": {
        "id": "3UTagRtAxHYA",
        "colab": {
          "base_uri": "https://localhost:8080/"
        },
        "outputId": "554e5d50-0c12-462c-a74b-2fb5d08afd50"
      },
      "source": [
        "titanic_pclass = titanic_df['Pclass']\n",
        "print(type(titanic_pclass))"
      ],
      "execution_count": 15,
      "outputs": [
        {
          "output_type": "stream",
          "text": [
            "<class 'pandas.core.series.Series'>\n"
          ],
          "name": "stdout"
        }
      ]
    },
    {
      "cell_type": "code",
      "metadata": {
        "id": "RhOb0OcIxRmO",
        "colab": {
          "base_uri": "https://localhost:8080/"
        },
        "outputId": "38b0f618-a136-4993-a6ef-2106d768332a"
      },
      "source": [
        "titanic_pclass.head()"
      ],
      "execution_count": 16,
      "outputs": [
        {
          "output_type": "execute_result",
          "data": {
            "text/plain": [
              "0    3\n",
              "1    1\n",
              "2    3\n",
              "3    1\n",
              "4    3\n",
              "Name: Pclass, dtype: int64"
            ]
          },
          "metadata": {
            "tags": []
          },
          "execution_count": 16
        }
      ]
    },
    {
      "cell_type": "markdown",
      "metadata": {
        "id": "LcYWxzNxxcn2"
      },
      "source": [
        "- sort_values() by=정렬컬럼, ascending=True 또는 False로 오름차순/내림차순으로 정렬"
      ]
    },
    {
      "cell_type": "code",
      "metadata": {
        "id": "6Xew4jVrxUQt",
        "colab": {
          "base_uri": "https://localhost:8080/",
          "height": 419
        },
        "outputId": "29b82d30-00c1-40f2-be14-ebaa043baff6"
      },
      "source": [
        "titanic_df.sort_values(by='Pclass', ascending=True)\n",
        "\n",
        "titanic_df[['Name', 'Age']].sort_values(by='Age')\n",
        "titanic_df[['Name', 'Age', 'Pclass']].sort_values(by=['Pclass', 'Age'])"
      ],
      "execution_count": 17,
      "outputs": [
        {
          "output_type": "execute_result",
          "data": {
            "text/html": [
              "<div>\n",
              "<style scoped>\n",
              "    .dataframe tbody tr th:only-of-type {\n",
              "        vertical-align: middle;\n",
              "    }\n",
              "\n",
              "    .dataframe tbody tr th {\n",
              "        vertical-align: top;\n",
              "    }\n",
              "\n",
              "    .dataframe thead th {\n",
              "        text-align: right;\n",
              "    }\n",
              "</style>\n",
              "<table border=\"1\" class=\"dataframe\">\n",
              "  <thead>\n",
              "    <tr style=\"text-align: right;\">\n",
              "      <th></th>\n",
              "      <th>Name</th>\n",
              "      <th>Age</th>\n",
              "      <th>Pclass</th>\n",
              "    </tr>\n",
              "  </thead>\n",
              "  <tbody>\n",
              "    <tr>\n",
              "      <th>305</th>\n",
              "      <td>Allison, Master. Hudson Trevor</td>\n",
              "      <td>0.92</td>\n",
              "      <td>1</td>\n",
              "    </tr>\n",
              "    <tr>\n",
              "      <th>297</th>\n",
              "      <td>Allison, Miss. Helen Loraine</td>\n",
              "      <td>2.00</td>\n",
              "      <td>1</td>\n",
              "    </tr>\n",
              "    <tr>\n",
              "      <th>445</th>\n",
              "      <td>Dodge, Master. Washington</td>\n",
              "      <td>4.00</td>\n",
              "      <td>1</td>\n",
              "    </tr>\n",
              "    <tr>\n",
              "      <th>802</th>\n",
              "      <td>Carter, Master. William Thornton II</td>\n",
              "      <td>11.00</td>\n",
              "      <td>1</td>\n",
              "    </tr>\n",
              "    <tr>\n",
              "      <th>435</th>\n",
              "      <td>Carter, Miss. Lucile Polk</td>\n",
              "      <td>14.00</td>\n",
              "      <td>1</td>\n",
              "    </tr>\n",
              "    <tr>\n",
              "      <th>...</th>\n",
              "      <td>...</td>\n",
              "      <td>...</td>\n",
              "      <td>...</td>\n",
              "    </tr>\n",
              "    <tr>\n",
              "      <th>859</th>\n",
              "      <td>Razi, Mr. Raihed</td>\n",
              "      <td>NaN</td>\n",
              "      <td>3</td>\n",
              "    </tr>\n",
              "    <tr>\n",
              "      <th>863</th>\n",
              "      <td>Sage, Miss. Dorothy Edith \"Dolly\"</td>\n",
              "      <td>NaN</td>\n",
              "      <td>3</td>\n",
              "    </tr>\n",
              "    <tr>\n",
              "      <th>868</th>\n",
              "      <td>van Melkebeke, Mr. Philemon</td>\n",
              "      <td>NaN</td>\n",
              "      <td>3</td>\n",
              "    </tr>\n",
              "    <tr>\n",
              "      <th>878</th>\n",
              "      <td>Laleff, Mr. Kristo</td>\n",
              "      <td>NaN</td>\n",
              "      <td>3</td>\n",
              "    </tr>\n",
              "    <tr>\n",
              "      <th>888</th>\n",
              "      <td>Johnston, Miss. Catherine Helen \"Carrie\"</td>\n",
              "      <td>NaN</td>\n",
              "      <td>3</td>\n",
              "    </tr>\n",
              "  </tbody>\n",
              "</table>\n",
              "<p>891 rows × 3 columns</p>\n",
              "</div>"
            ],
            "text/plain": [
              "                                         Name    Age  Pclass\n",
              "305            Allison, Master. Hudson Trevor   0.92       1\n",
              "297              Allison, Miss. Helen Loraine   2.00       1\n",
              "445                 Dodge, Master. Washington   4.00       1\n",
              "802       Carter, Master. William Thornton II  11.00       1\n",
              "435                 Carter, Miss. Lucile Polk  14.00       1\n",
              "..                                        ...    ...     ...\n",
              "859                          Razi, Mr. Raihed    NaN       3\n",
              "863         Sage, Miss. Dorothy Edith \"Dolly\"    NaN       3\n",
              "868               van Melkebeke, Mr. Philemon    NaN       3\n",
              "878                        Laleff, Mr. Kristo    NaN       3\n",
              "888  Johnston, Miss. Catherine Helen \"Carrie\"    NaN       3\n",
              "\n",
              "[891 rows x 3 columns]"
            ]
          },
          "metadata": {
            "tags": []
          },
          "execution_count": 17
        }
      ]
    },
    {
      "cell_type": "markdown",
      "metadata": {
        "id": "IEIHIEzfksY1"
      },
      "source": [
        "### DataFrame과 리스트, 딕셔너리, 넘파이 ndarray 상호 변환"
      ]
    },
    {
      "cell_type": "markdown",
      "metadata": {
        "id": "9YD7nHvBntKw"
      },
      "source": [
        "- 리스트, ndarray에서 DataFrame 변환"
      ]
    },
    {
      "cell_type": "code",
      "metadata": {
        "id": "k0DSN2TkkrGD",
        "colab": {
          "base_uri": "https://localhost:8080/"
        },
        "outputId": "21422ba9-34dd-4380-f909-c7a4f1d5a254"
      },
      "source": [
        "import numpy as np\n",
        "\n",
        "col_name1 = ['col1']\n",
        "list1 = [1, 2, 3]\n",
        "array1 = np.array(list1)\n",
        "\n",
        "print('array1 shape:',array1.shape)\n",
        "df_list1 = pd.DataFrame(list1, columns=col_name1)\n",
        "print('1차원 리스트로 만든 DataFrame:\\n', df_list1)\n",
        "df_array1 = pd.DataFrame(array1, columns=col_name1)\n",
        "print('1차원 ndarray로 만든 DataFrame:\\n', df_array1)"
      ],
      "execution_count": 18,
      "outputs": [
        {
          "output_type": "stream",
          "text": [
            "array1 shape: (3,)\n",
            "1차원 리스트로 만든 DataFrame:\n",
            "    col1\n",
            "0     1\n",
            "1     2\n",
            "2     3\n",
            "1차원 ndarray로 만든 DataFrame:\n",
            "    col1\n",
            "0     1\n",
            "1     2\n",
            "2     3\n"
          ],
          "name": "stdout"
        }
      ]
    },
    {
      "cell_type": "code",
      "metadata": {
        "id": "wQIrUWlUoUNx",
        "colab": {
          "base_uri": "https://localhost:8080/"
        },
        "outputId": "5b29b11d-0111-49e1-9291-cd1f0f382278"
      },
      "source": [
        "col_name2 = ['col1', 'col2', 'col3']\n",
        "\n",
        "list2 = [[1, 2, 3],\n",
        "         [11, 12, 13]]\n",
        "\n",
        "array2 = np.array(list2)\n",
        "print('array2 shape:', array2.shape)\n",
        "df_list2 = pd.DataFrame(list2, columns=col_name2)\n",
        "print('2차원 리스트로 만든 DataFrame:\\n', df_list2)\n",
        "df_array2 = pd.DataFrame(array2, columns=col_name2)\n",
        "print('2차원 ndarray로 만든 DataFrame:\\n', df_array2)"
      ],
      "execution_count": 19,
      "outputs": [
        {
          "output_type": "stream",
          "text": [
            "array2 shape: (2, 3)\n",
            "2차원 리스트로 만든 DataFrame:\n",
            "    col1  col2  col3\n",
            "0     1     2     3\n",
            "1    11    12    13\n",
            "2차원 ndarray로 만든 DataFrame:\n",
            "    col1  col2  col3\n",
            "0     1     2     3\n",
            "1    11    12    13\n"
          ],
          "name": "stdout"
        }
      ]
    },
    {
      "cell_type": "markdown",
      "metadata": {
        "id": "YEb1tzGVo4bT"
      },
      "source": [
        "- dict에서 DataFrame 변환"
      ]
    },
    {
      "cell_type": "code",
      "metadata": {
        "id": "dO_lVEzTo2S1",
        "colab": {
          "base_uri": "https://localhost:8080/"
        },
        "outputId": "bb9851c4-e201-42b6-a613-76d5f4c83eae"
      },
      "source": [
        "dict = { 'col1': [1, 11], 'col2': [2, 22], 'col3': [3, 33] }\n",
        "df_dict = pd.DataFrame(dict)\n",
        "print('딕셔너리로 만든 DataFrame:\\n', df_dict)"
      ],
      "execution_count": 20,
      "outputs": [
        {
          "output_type": "stream",
          "text": [
            "딕셔너리로 만든 DataFrame:\n",
            "    col1  col2  col3\n",
            "0     1     2     3\n",
            "1    11    22    33\n"
          ],
          "name": "stdout"
        }
      ]
    },
    {
      "cell_type": "markdown",
      "metadata": {
        "id": "RXd__Liiplm6"
      },
      "source": [
        "- DataFrame을 ndarray로 변환"
      ]
    },
    {
      "cell_type": "code",
      "metadata": {
        "id": "_9gs5m4cpKY5",
        "colab": {
          "base_uri": "https://localhost:8080/"
        },
        "outputId": "fb6262b7-dc88-476a-f9ff-87b364258d54"
      },
      "source": [
        "array3 = df_dict.values\n",
        "print('df_dict.values 타입:', type(array3), 'df_dict.values shape:', array3.shape)\n",
        "print(array3)"
      ],
      "execution_count": 21,
      "outputs": [
        {
          "output_type": "stream",
          "text": [
            "df_dict.values 타입: <class 'numpy.ndarray'> df_dict.values shape: (2, 3)\n",
            "[[ 1  2  3]\n",
            " [11 22 33]]\n"
          ],
          "name": "stdout"
        }
      ]
    },
    {
      "cell_type": "markdown",
      "metadata": {
        "id": "hF58Kwkvp82I"
      },
      "source": [
        "- DataFrame을 리스트와 딕셔너리로 변환"
      ]
    },
    {
      "cell_type": "code",
      "metadata": {
        "id": "rjnX9c82p4vz",
        "colab": {
          "base_uri": "https://localhost:8080/"
        },
        "outputId": "5a16176a-c00e-4a9f-80f1-1c211ec5e882"
      },
      "source": [
        "# DataFrame을 리스트로 변환\n",
        "list3 = df_dict.values.tolist()\n",
        "print('df_dict.values.tolist 타입:', type(list3))\n",
        "print(list3)\n",
        "\n",
        "# DataFrame을 딕셔너리로 변환\n",
        "dict3 = df_dict.to_dict('list') # value를 리스트로 반환\n",
        "print('\\n df_dict.to_dict() 타입:', type(dict3))\n",
        "print(dict3) \n",
        "print(df_dict.to_dict()) # value를 dict로 반환"
      ],
      "execution_count": 22,
      "outputs": [
        {
          "output_type": "stream",
          "text": [
            "df_dict.values.tolist 타입: <class 'list'>\n",
            "[[1, 2, 3], [11, 22, 33]]\n",
            "\n",
            " df_dict.to_dict() 타입: <class 'dict'>\n",
            "{'col1': [1, 11], 'col2': [2, 22], 'col3': [3, 33]}\n",
            "{'col1': {0: 1, 1: 11}, 'col2': {0: 2, 1: 22}, 'col3': {0: 3, 1: 33}}\n"
          ],
          "name": "stdout"
        }
      ]
    },
    {
      "cell_type": "markdown",
      "metadata": {
        "id": "2Ylr4Mj5rlA8"
      },
      "source": [
        "### DataFrame의 컬럼 데이터 셋 Access\n",
        "- DataFrame의 컬럼 데이터셋 생성과 수정은 `[]`연산자를 이용해 쉽게 할 수 있다.\n",
        "- 새로운 컬럼에 값을 할당하려면 DataFrame[] 내에 새로운 컬럼명을 입력하고 값을 할당하면 된다."
      ]
    },
    {
      "cell_type": "code",
      "metadata": {
        "id": "1Czbg3eqqfk8",
        "colab": {
          "base_uri": "https://localhost:8080/",
          "height": 142
        },
        "outputId": "a840ae79-4bfa-4092-c116-bcb999ca4de6"
      },
      "source": [
        "titanic_df['Age_0'] = 0\n",
        "titanic_df.head(3)"
      ],
      "execution_count": 23,
      "outputs": [
        {
          "output_type": "execute_result",
          "data": {
            "text/html": [
              "<div>\n",
              "<style scoped>\n",
              "    .dataframe tbody tr th:only-of-type {\n",
              "        vertical-align: middle;\n",
              "    }\n",
              "\n",
              "    .dataframe tbody tr th {\n",
              "        vertical-align: top;\n",
              "    }\n",
              "\n",
              "    .dataframe thead th {\n",
              "        text-align: right;\n",
              "    }\n",
              "</style>\n",
              "<table border=\"1\" class=\"dataframe\">\n",
              "  <thead>\n",
              "    <tr style=\"text-align: right;\">\n",
              "      <th></th>\n",
              "      <th>PassengerId</th>\n",
              "      <th>Survived</th>\n",
              "      <th>Pclass</th>\n",
              "      <th>Name</th>\n",
              "      <th>Sex</th>\n",
              "      <th>Age</th>\n",
              "      <th>SibSp</th>\n",
              "      <th>Parch</th>\n",
              "      <th>Ticket</th>\n",
              "      <th>Fare</th>\n",
              "      <th>Cabin</th>\n",
              "      <th>Embarked</th>\n",
              "      <th>Age_0</th>\n",
              "    </tr>\n",
              "  </thead>\n",
              "  <tbody>\n",
              "    <tr>\n",
              "      <th>0</th>\n",
              "      <td>1</td>\n",
              "      <td>0</td>\n",
              "      <td>3</td>\n",
              "      <td>Braund, Mr. Owen Harris</td>\n",
              "      <td>male</td>\n",
              "      <td>22.0</td>\n",
              "      <td>1</td>\n",
              "      <td>0</td>\n",
              "      <td>A/5 21171</td>\n",
              "      <td>7.2500</td>\n",
              "      <td>NaN</td>\n",
              "      <td>S</td>\n",
              "      <td>0</td>\n",
              "    </tr>\n",
              "    <tr>\n",
              "      <th>1</th>\n",
              "      <td>2</td>\n",
              "      <td>1</td>\n",
              "      <td>1</td>\n",
              "      <td>Cumings, Mrs. John Bradley (Florence Briggs Th...</td>\n",
              "      <td>female</td>\n",
              "      <td>38.0</td>\n",
              "      <td>1</td>\n",
              "      <td>0</td>\n",
              "      <td>PC 17599</td>\n",
              "      <td>71.2833</td>\n",
              "      <td>C85</td>\n",
              "      <td>C</td>\n",
              "      <td>0</td>\n",
              "    </tr>\n",
              "    <tr>\n",
              "      <th>2</th>\n",
              "      <td>3</td>\n",
              "      <td>1</td>\n",
              "      <td>3</td>\n",
              "      <td>Heikkinen, Miss. Laina</td>\n",
              "      <td>female</td>\n",
              "      <td>26.0</td>\n",
              "      <td>0</td>\n",
              "      <td>0</td>\n",
              "      <td>STON/O2. 3101282</td>\n",
              "      <td>7.9250</td>\n",
              "      <td>NaN</td>\n",
              "      <td>S</td>\n",
              "      <td>0</td>\n",
              "    </tr>\n",
              "  </tbody>\n",
              "</table>\n",
              "</div>"
            ],
            "text/plain": [
              "   PassengerId  Survived  Pclass  ... Cabin Embarked  Age_0\n",
              "0            1         0       3  ...   NaN        S      0\n",
              "1            2         1       1  ...   C85        C      0\n",
              "2            3         1       3  ...   NaN        S      0\n",
              "\n",
              "[3 rows x 13 columns]"
            ]
          },
          "metadata": {
            "tags": []
          },
          "execution_count": 23
        }
      ]
    },
    {
      "cell_type": "code",
      "metadata": {
        "id": "65Z4jFMCr_oi",
        "colab": {
          "base_uri": "https://localhost:8080/",
          "height": 142
        },
        "outputId": "95f64c76-8dab-46b9-bcb3-e3cc7663dbc2"
      },
      "source": [
        "titanic_df['Age_by_10'] = titanic_df['Age'] * 10\n",
        "titanic_df['Family_No'] = titanic_df['SibSp'] + titanic_df['Parch'] + 1\n",
        "titanic_df.head(3)"
      ],
      "execution_count": 24,
      "outputs": [
        {
          "output_type": "execute_result",
          "data": {
            "text/html": [
              "<div>\n",
              "<style scoped>\n",
              "    .dataframe tbody tr th:only-of-type {\n",
              "        vertical-align: middle;\n",
              "    }\n",
              "\n",
              "    .dataframe tbody tr th {\n",
              "        vertical-align: top;\n",
              "    }\n",
              "\n",
              "    .dataframe thead th {\n",
              "        text-align: right;\n",
              "    }\n",
              "</style>\n",
              "<table border=\"1\" class=\"dataframe\">\n",
              "  <thead>\n",
              "    <tr style=\"text-align: right;\">\n",
              "      <th></th>\n",
              "      <th>PassengerId</th>\n",
              "      <th>Survived</th>\n",
              "      <th>Pclass</th>\n",
              "      <th>Name</th>\n",
              "      <th>Sex</th>\n",
              "      <th>Age</th>\n",
              "      <th>SibSp</th>\n",
              "      <th>Parch</th>\n",
              "      <th>Ticket</th>\n",
              "      <th>Fare</th>\n",
              "      <th>Cabin</th>\n",
              "      <th>Embarked</th>\n",
              "      <th>Age_0</th>\n",
              "      <th>Age_by_10</th>\n",
              "      <th>Family_No</th>\n",
              "    </tr>\n",
              "  </thead>\n",
              "  <tbody>\n",
              "    <tr>\n",
              "      <th>0</th>\n",
              "      <td>1</td>\n",
              "      <td>0</td>\n",
              "      <td>3</td>\n",
              "      <td>Braund, Mr. Owen Harris</td>\n",
              "      <td>male</td>\n",
              "      <td>22.0</td>\n",
              "      <td>1</td>\n",
              "      <td>0</td>\n",
              "      <td>A/5 21171</td>\n",
              "      <td>7.2500</td>\n",
              "      <td>NaN</td>\n",
              "      <td>S</td>\n",
              "      <td>0</td>\n",
              "      <td>220.0</td>\n",
              "      <td>2</td>\n",
              "    </tr>\n",
              "    <tr>\n",
              "      <th>1</th>\n",
              "      <td>2</td>\n",
              "      <td>1</td>\n",
              "      <td>1</td>\n",
              "      <td>Cumings, Mrs. John Bradley (Florence Briggs Th...</td>\n",
              "      <td>female</td>\n",
              "      <td>38.0</td>\n",
              "      <td>1</td>\n",
              "      <td>0</td>\n",
              "      <td>PC 17599</td>\n",
              "      <td>71.2833</td>\n",
              "      <td>C85</td>\n",
              "      <td>C</td>\n",
              "      <td>0</td>\n",
              "      <td>380.0</td>\n",
              "      <td>2</td>\n",
              "    </tr>\n",
              "    <tr>\n",
              "      <th>2</th>\n",
              "      <td>3</td>\n",
              "      <td>1</td>\n",
              "      <td>3</td>\n",
              "      <td>Heikkinen, Miss. Laina</td>\n",
              "      <td>female</td>\n",
              "      <td>26.0</td>\n",
              "      <td>0</td>\n",
              "      <td>0</td>\n",
              "      <td>STON/O2. 3101282</td>\n",
              "      <td>7.9250</td>\n",
              "      <td>NaN</td>\n",
              "      <td>S</td>\n",
              "      <td>0</td>\n",
              "      <td>260.0</td>\n",
              "      <td>1</td>\n",
              "    </tr>\n",
              "  </tbody>\n",
              "</table>\n",
              "</div>"
            ],
            "text/plain": [
              "   PassengerId  Survived  Pclass  ... Age_0 Age_by_10  Family_No\n",
              "0            1         0       3  ...     0     220.0          2\n",
              "1            2         1       1  ...     0     380.0          2\n",
              "2            3         1       3  ...     0     260.0          1\n",
              "\n",
              "[3 rows x 15 columns]"
            ]
          },
          "metadata": {
            "tags": []
          },
          "execution_count": 24
        }
      ]
    },
    {
      "cell_type": "markdown",
      "metadata": {
        "id": "ryERolB5sVWo"
      },
      "source": [
        "- 기존 컬럼에 값을 업데이트 하려면 해당 컬럼에 업데이트값을 그대로 지정하면 된다."
      ]
    },
    {
      "cell_type": "code",
      "metadata": {
        "id": "cAEZQyEGsUQh",
        "colab": {
          "base_uri": "https://localhost:8080/",
          "height": 142
        },
        "outputId": "b39c9bef-fc1f-46e2-e9ce-1833f3566d8b"
      },
      "source": [
        "titanic_df['Age_by_10'] = titanic_df['Age_by_10'] + 100\n",
        "titanic_df.head(3)"
      ],
      "execution_count": 25,
      "outputs": [
        {
          "output_type": "execute_result",
          "data": {
            "text/html": [
              "<div>\n",
              "<style scoped>\n",
              "    .dataframe tbody tr th:only-of-type {\n",
              "        vertical-align: middle;\n",
              "    }\n",
              "\n",
              "    .dataframe tbody tr th {\n",
              "        vertical-align: top;\n",
              "    }\n",
              "\n",
              "    .dataframe thead th {\n",
              "        text-align: right;\n",
              "    }\n",
              "</style>\n",
              "<table border=\"1\" class=\"dataframe\">\n",
              "  <thead>\n",
              "    <tr style=\"text-align: right;\">\n",
              "      <th></th>\n",
              "      <th>PassengerId</th>\n",
              "      <th>Survived</th>\n",
              "      <th>Pclass</th>\n",
              "      <th>Name</th>\n",
              "      <th>Sex</th>\n",
              "      <th>Age</th>\n",
              "      <th>SibSp</th>\n",
              "      <th>Parch</th>\n",
              "      <th>Ticket</th>\n",
              "      <th>Fare</th>\n",
              "      <th>Cabin</th>\n",
              "      <th>Embarked</th>\n",
              "      <th>Age_0</th>\n",
              "      <th>Age_by_10</th>\n",
              "      <th>Family_No</th>\n",
              "    </tr>\n",
              "  </thead>\n",
              "  <tbody>\n",
              "    <tr>\n",
              "      <th>0</th>\n",
              "      <td>1</td>\n",
              "      <td>0</td>\n",
              "      <td>3</td>\n",
              "      <td>Braund, Mr. Owen Harris</td>\n",
              "      <td>male</td>\n",
              "      <td>22.0</td>\n",
              "      <td>1</td>\n",
              "      <td>0</td>\n",
              "      <td>A/5 21171</td>\n",
              "      <td>7.2500</td>\n",
              "      <td>NaN</td>\n",
              "      <td>S</td>\n",
              "      <td>0</td>\n",
              "      <td>320.0</td>\n",
              "      <td>2</td>\n",
              "    </tr>\n",
              "    <tr>\n",
              "      <th>1</th>\n",
              "      <td>2</td>\n",
              "      <td>1</td>\n",
              "      <td>1</td>\n",
              "      <td>Cumings, Mrs. John Bradley (Florence Briggs Th...</td>\n",
              "      <td>female</td>\n",
              "      <td>38.0</td>\n",
              "      <td>1</td>\n",
              "      <td>0</td>\n",
              "      <td>PC 17599</td>\n",
              "      <td>71.2833</td>\n",
              "      <td>C85</td>\n",
              "      <td>C</td>\n",
              "      <td>0</td>\n",
              "      <td>480.0</td>\n",
              "      <td>2</td>\n",
              "    </tr>\n",
              "    <tr>\n",
              "      <th>2</th>\n",
              "      <td>3</td>\n",
              "      <td>1</td>\n",
              "      <td>3</td>\n",
              "      <td>Heikkinen, Miss. Laina</td>\n",
              "      <td>female</td>\n",
              "      <td>26.0</td>\n",
              "      <td>0</td>\n",
              "      <td>0</td>\n",
              "      <td>STON/O2. 3101282</td>\n",
              "      <td>7.9250</td>\n",
              "      <td>NaN</td>\n",
              "      <td>S</td>\n",
              "      <td>0</td>\n",
              "      <td>360.0</td>\n",
              "      <td>1</td>\n",
              "    </tr>\n",
              "  </tbody>\n",
              "</table>\n",
              "</div>"
            ],
            "text/plain": [
              "   PassengerId  Survived  Pclass  ... Age_0 Age_by_10  Family_No\n",
              "0            1         0       3  ...     0     320.0          2\n",
              "1            2         1       1  ...     0     480.0          2\n",
              "2            3         1       3  ...     0     360.0          1\n",
              "\n",
              "[3 rows x 15 columns]"
            ]
          },
          "metadata": {
            "tags": []
          },
          "execution_count": 25
        }
      ]
    },
    {
      "cell_type": "markdown",
      "metadata": {
        "id": "qTrE1cJ9lLqZ"
      },
      "source": [
        "#### DataFrame의 drop()\n",
        "- axis: DataFrame의 행을 삭제할 때는 axis = 0, 열을 삭제할 때는 axis = 1로 설정\n",
        "- 원본 DataFrame은 유지하고 드롭된 DataFrame을 새롭게 객체 변수로 받고 싶다면 inplace=False로 설정(default: False)\n",
        "  - ex: `titanic_drop_df = titanic_df.drop('Age_0', axis=1, inplace=False)`\n",
        "- 원본 DataFrame에 드롭된 결과를 적용할 경우에는 inplace=True를 적용\n",
        "  - ex: `titanic_df.drop('Age_0', axis=1, inplace=True)`\n",
        "- 원본 DataFrame에서 드롭된 DataFrame을 다시 원본 DataFrame 객체 변수로 할당하면 원본 DataFrame에서 드롭된 결과를 적용할 경우와 같은\n",
        "  - ex: `titanic_df = titanic_df.drop('Age_0', axis=1, inplace=False)`"
      ]
    },
    {
      "cell_type": "markdown",
      "metadata": {
        "id": "vDZ8BMYds31a"
      },
      "source": [
        "- axis에 따른 삭제"
      ]
    },
    {
      "cell_type": "code",
      "metadata": {
        "id": "diSsyNN2xuGT",
        "colab": {
          "base_uri": "https://localhost:8080/",
          "height": 318
        },
        "outputId": "09db5e82-8cac-475f-d726-e4fba81df48d"
      },
      "source": [
        "# drop() 메소드의 inplace 기본값이 False\n",
        "# drop()을 호출한 DataFrame은 아무런 영향이 없으며 drop()호출의 결과가 해당 컬럼이 drop된 DataFrame을 반환한다\n",
        "titanic_drop_df = titanic_df.drop('Age_0', axis=1)\n",
        "display(titanic_drop_df.head(3))\n",
        "print()\n",
        "print('#' * 130)\n",
        "print()\n",
        "display(titanic_df.head(3))"
      ],
      "execution_count": 26,
      "outputs": [
        {
          "output_type": "display_data",
          "data": {
            "text/html": [
              "<div>\n",
              "<style scoped>\n",
              "    .dataframe tbody tr th:only-of-type {\n",
              "        vertical-align: middle;\n",
              "    }\n",
              "\n",
              "    .dataframe tbody tr th {\n",
              "        vertical-align: top;\n",
              "    }\n",
              "\n",
              "    .dataframe thead th {\n",
              "        text-align: right;\n",
              "    }\n",
              "</style>\n",
              "<table border=\"1\" class=\"dataframe\">\n",
              "  <thead>\n",
              "    <tr style=\"text-align: right;\">\n",
              "      <th></th>\n",
              "      <th>PassengerId</th>\n",
              "      <th>Survived</th>\n",
              "      <th>Pclass</th>\n",
              "      <th>Name</th>\n",
              "      <th>Sex</th>\n",
              "      <th>Age</th>\n",
              "      <th>SibSp</th>\n",
              "      <th>Parch</th>\n",
              "      <th>Ticket</th>\n",
              "      <th>Fare</th>\n",
              "      <th>Cabin</th>\n",
              "      <th>Embarked</th>\n",
              "      <th>Age_by_10</th>\n",
              "      <th>Family_No</th>\n",
              "    </tr>\n",
              "  </thead>\n",
              "  <tbody>\n",
              "    <tr>\n",
              "      <th>0</th>\n",
              "      <td>1</td>\n",
              "      <td>0</td>\n",
              "      <td>3</td>\n",
              "      <td>Braund, Mr. Owen Harris</td>\n",
              "      <td>male</td>\n",
              "      <td>22.0</td>\n",
              "      <td>1</td>\n",
              "      <td>0</td>\n",
              "      <td>A/5 21171</td>\n",
              "      <td>7.2500</td>\n",
              "      <td>NaN</td>\n",
              "      <td>S</td>\n",
              "      <td>320.0</td>\n",
              "      <td>2</td>\n",
              "    </tr>\n",
              "    <tr>\n",
              "      <th>1</th>\n",
              "      <td>2</td>\n",
              "      <td>1</td>\n",
              "      <td>1</td>\n",
              "      <td>Cumings, Mrs. John Bradley (Florence Briggs Th...</td>\n",
              "      <td>female</td>\n",
              "      <td>38.0</td>\n",
              "      <td>1</td>\n",
              "      <td>0</td>\n",
              "      <td>PC 17599</td>\n",
              "      <td>71.2833</td>\n",
              "      <td>C85</td>\n",
              "      <td>C</td>\n",
              "      <td>480.0</td>\n",
              "      <td>2</td>\n",
              "    </tr>\n",
              "    <tr>\n",
              "      <th>2</th>\n",
              "      <td>3</td>\n",
              "      <td>1</td>\n",
              "      <td>3</td>\n",
              "      <td>Heikkinen, Miss. Laina</td>\n",
              "      <td>female</td>\n",
              "      <td>26.0</td>\n",
              "      <td>0</td>\n",
              "      <td>0</td>\n",
              "      <td>STON/O2. 3101282</td>\n",
              "      <td>7.9250</td>\n",
              "      <td>NaN</td>\n",
              "      <td>S</td>\n",
              "      <td>360.0</td>\n",
              "      <td>1</td>\n",
              "    </tr>\n",
              "  </tbody>\n",
              "</table>\n",
              "</div>"
            ],
            "text/plain": [
              "   PassengerId  Survived  Pclass  ... Embarked Age_by_10  Family_No\n",
              "0            1         0       3  ...        S     320.0          2\n",
              "1            2         1       1  ...        C     480.0          2\n",
              "2            3         1       3  ...        S     360.0          1\n",
              "\n",
              "[3 rows x 14 columns]"
            ]
          },
          "metadata": {
            "tags": []
          }
        },
        {
          "output_type": "stream",
          "text": [
            "\n",
            "##################################################################################################################################\n",
            "\n"
          ],
          "name": "stdout"
        },
        {
          "output_type": "display_data",
          "data": {
            "text/html": [
              "<div>\n",
              "<style scoped>\n",
              "    .dataframe tbody tr th:only-of-type {\n",
              "        vertical-align: middle;\n",
              "    }\n",
              "\n",
              "    .dataframe tbody tr th {\n",
              "        vertical-align: top;\n",
              "    }\n",
              "\n",
              "    .dataframe thead th {\n",
              "        text-align: right;\n",
              "    }\n",
              "</style>\n",
              "<table border=\"1\" class=\"dataframe\">\n",
              "  <thead>\n",
              "    <tr style=\"text-align: right;\">\n",
              "      <th></th>\n",
              "      <th>PassengerId</th>\n",
              "      <th>Survived</th>\n",
              "      <th>Pclass</th>\n",
              "      <th>Name</th>\n",
              "      <th>Sex</th>\n",
              "      <th>Age</th>\n",
              "      <th>SibSp</th>\n",
              "      <th>Parch</th>\n",
              "      <th>Ticket</th>\n",
              "      <th>Fare</th>\n",
              "      <th>Cabin</th>\n",
              "      <th>Embarked</th>\n",
              "      <th>Age_0</th>\n",
              "      <th>Age_by_10</th>\n",
              "      <th>Family_No</th>\n",
              "    </tr>\n",
              "  </thead>\n",
              "  <tbody>\n",
              "    <tr>\n",
              "      <th>0</th>\n",
              "      <td>1</td>\n",
              "      <td>0</td>\n",
              "      <td>3</td>\n",
              "      <td>Braund, Mr. Owen Harris</td>\n",
              "      <td>male</td>\n",
              "      <td>22.0</td>\n",
              "      <td>1</td>\n",
              "      <td>0</td>\n",
              "      <td>A/5 21171</td>\n",
              "      <td>7.2500</td>\n",
              "      <td>NaN</td>\n",
              "      <td>S</td>\n",
              "      <td>0</td>\n",
              "      <td>320.0</td>\n",
              "      <td>2</td>\n",
              "    </tr>\n",
              "    <tr>\n",
              "      <th>1</th>\n",
              "      <td>2</td>\n",
              "      <td>1</td>\n",
              "      <td>1</td>\n",
              "      <td>Cumings, Mrs. John Bradley (Florence Briggs Th...</td>\n",
              "      <td>female</td>\n",
              "      <td>38.0</td>\n",
              "      <td>1</td>\n",
              "      <td>0</td>\n",
              "      <td>PC 17599</td>\n",
              "      <td>71.2833</td>\n",
              "      <td>C85</td>\n",
              "      <td>C</td>\n",
              "      <td>0</td>\n",
              "      <td>480.0</td>\n",
              "      <td>2</td>\n",
              "    </tr>\n",
              "    <tr>\n",
              "      <th>2</th>\n",
              "      <td>3</td>\n",
              "      <td>1</td>\n",
              "      <td>3</td>\n",
              "      <td>Heikkinen, Miss. Laina</td>\n",
              "      <td>female</td>\n",
              "      <td>26.0</td>\n",
              "      <td>0</td>\n",
              "      <td>0</td>\n",
              "      <td>STON/O2. 3101282</td>\n",
              "      <td>7.9250</td>\n",
              "      <td>NaN</td>\n",
              "      <td>S</td>\n",
              "      <td>0</td>\n",
              "      <td>360.0</td>\n",
              "      <td>1</td>\n",
              "    </tr>\n",
              "  </tbody>\n",
              "</table>\n",
              "</div>"
            ],
            "text/plain": [
              "   PassengerId  Survived  Pclass  ... Age_0 Age_by_10  Family_No\n",
              "0            1         0       3  ...     0     320.0          2\n",
              "1            2         1       1  ...     0     480.0          2\n",
              "2            3         1       3  ...     0     360.0          1\n",
              "\n",
              "[3 rows x 15 columns]"
            ]
          },
          "metadata": {
            "tags": []
          }
        }
      ]
    },
    {
      "cell_type": "markdown",
      "metadata": {
        "id": "6kTEBzrGtEGy"
      },
      "source": [
        "- 여러개의 컬럼을 삭제할 때는 drop의 인자로 삭제할 컬럼 리스트를 입력한다.\n",
        "- `inplace=True`일 경우 호출한 DataFrame에 drop이 반영된다. (반환값은 None)"
      ]
    },
    {
      "cell_type": "code",
      "metadata": {
        "id": "A4VbUNfLtDOm",
        "colab": {
          "base_uri": "https://localhost:8080/",
          "height": 159
        },
        "outputId": "e4e717dc-d146-4f96-aa3d-5d45d675b397"
      },
      "source": [
        "drop_result = titanic_df.drop(['Age_0', 'Age_by_10', 'Family_No'], axis=1, inplace=True)\n",
        "print('inplace=True로 drop 후 반환된 값:', drop_result)\n",
        "titanic_df.head(3)"
      ],
      "execution_count": 27,
      "outputs": [
        {
          "output_type": "stream",
          "text": [
            "inplace=True로 drop 후 반환된 값: None\n"
          ],
          "name": "stdout"
        },
        {
          "output_type": "execute_result",
          "data": {
            "text/html": [
              "<div>\n",
              "<style scoped>\n",
              "    .dataframe tbody tr th:only-of-type {\n",
              "        vertical-align: middle;\n",
              "    }\n",
              "\n",
              "    .dataframe tbody tr th {\n",
              "        vertical-align: top;\n",
              "    }\n",
              "\n",
              "    .dataframe thead th {\n",
              "        text-align: right;\n",
              "    }\n",
              "</style>\n",
              "<table border=\"1\" class=\"dataframe\">\n",
              "  <thead>\n",
              "    <tr style=\"text-align: right;\">\n",
              "      <th></th>\n",
              "      <th>PassengerId</th>\n",
              "      <th>Survived</th>\n",
              "      <th>Pclass</th>\n",
              "      <th>Name</th>\n",
              "      <th>Sex</th>\n",
              "      <th>Age</th>\n",
              "      <th>SibSp</th>\n",
              "      <th>Parch</th>\n",
              "      <th>Ticket</th>\n",
              "      <th>Fare</th>\n",
              "      <th>Cabin</th>\n",
              "      <th>Embarked</th>\n",
              "    </tr>\n",
              "  </thead>\n",
              "  <tbody>\n",
              "    <tr>\n",
              "      <th>0</th>\n",
              "      <td>1</td>\n",
              "      <td>0</td>\n",
              "      <td>3</td>\n",
              "      <td>Braund, Mr. Owen Harris</td>\n",
              "      <td>male</td>\n",
              "      <td>22.0</td>\n",
              "      <td>1</td>\n",
              "      <td>0</td>\n",
              "      <td>A/5 21171</td>\n",
              "      <td>7.2500</td>\n",
              "      <td>NaN</td>\n",
              "      <td>S</td>\n",
              "    </tr>\n",
              "    <tr>\n",
              "      <th>1</th>\n",
              "      <td>2</td>\n",
              "      <td>1</td>\n",
              "      <td>1</td>\n",
              "      <td>Cumings, Mrs. John Bradley (Florence Briggs Th...</td>\n",
              "      <td>female</td>\n",
              "      <td>38.0</td>\n",
              "      <td>1</td>\n",
              "      <td>0</td>\n",
              "      <td>PC 17599</td>\n",
              "      <td>71.2833</td>\n",
              "      <td>C85</td>\n",
              "      <td>C</td>\n",
              "    </tr>\n",
              "    <tr>\n",
              "      <th>2</th>\n",
              "      <td>3</td>\n",
              "      <td>1</td>\n",
              "      <td>3</td>\n",
              "      <td>Heikkinen, Miss. Laina</td>\n",
              "      <td>female</td>\n",
              "      <td>26.0</td>\n",
              "      <td>0</td>\n",
              "      <td>0</td>\n",
              "      <td>STON/O2. 3101282</td>\n",
              "      <td>7.9250</td>\n",
              "      <td>NaN</td>\n",
              "      <td>S</td>\n",
              "    </tr>\n",
              "  </tbody>\n",
              "</table>\n",
              "</div>"
            ],
            "text/plain": [
              "   PassengerId  Survived  Pclass  ...     Fare Cabin  Embarked\n",
              "0            1         0       3  ...   7.2500   NaN         S\n",
              "1            2         1       1  ...  71.2833   C85         C\n",
              "2            3         1       3  ...   7.9250   NaN         S\n",
              "\n",
              "[3 rows x 12 columns]"
            ]
          },
          "metadata": {
            "tags": []
          },
          "execution_count": 27
        }
      ]
    },
    {
      "cell_type": "markdown",
      "metadata": {
        "id": "ara658YHui4K"
      },
      "source": [
        "- axis=0일 경우 drop은 row 방향으로 데이터를 삭제한다."
      ]
    },
    {
      "cell_type": "code",
      "metadata": {
        "id": "j5dmXhihubaT",
        "colab": {
          "base_uri": "https://localhost:8080/"
        },
        "outputId": "b8a57c5d-c575-44fc-c310-94e7cbdae3f0"
      },
      "source": [
        "titanic_df = pd.read_csv('./train.csv')\n",
        "pd.set_option('display.width', 1000)\n",
        "pd.set_option('display.max_colwidth', 15)\n",
        "print('##### before axis 0 drop #####')\n",
        "print(titanic_df.head(6))\n",
        "\n",
        "titanic_df.drop([0,1,2], axis=0, inplace=True)\n",
        "\n",
        "print('##### after axis 0 drop #####')\n",
        "print(titanic_df.head(3))"
      ],
      "execution_count": 28,
      "outputs": [
        {
          "output_type": "stream",
          "text": [
            "##### before axis 0 drop #####\n",
            "   PassengerId  Survived  Pclass  ...     Fare Cabin  Embarked\n",
            "0            1         0       3  ...   7.2500   NaN         S\n",
            "1            2         1       1  ...  71.2833   C85         C\n",
            "2            3         1       3  ...   7.9250   NaN         S\n",
            "3            4         1       1  ...  53.1000  C123         S\n",
            "4            5         0       3  ...   8.0500   NaN         S\n",
            "5            6         0       3  ...   8.4583   NaN         Q\n",
            "\n",
            "[6 rows x 12 columns]\n",
            "##### after axis 0 drop #####\n",
            "   PassengerId  Survived  Pclass  ...     Fare Cabin  Embarked\n",
            "3            4         1       1  ...  53.1000  C123         S\n",
            "4            5         0       3  ...   8.0500   NaN         S\n",
            "5            6         0       3  ...   8.4583   NaN         Q\n",
            "\n",
            "[3 rows x 12 columns]\n"
          ],
          "name": "stdout"
        }
      ]
    },
    {
      "cell_type": "markdown",
      "metadata": {
        "id": "83nZBeComvlm"
      },
      "source": [
        "### Index\n",
        "- 판다스의 Index 객체는 RDBMS의 PK와 유사하게 DataFrame, Series의 레코드를 고유하게 식별하는 객체이다.\n",
        "- DataFrame, Series에서 Index 객체만 추출하려면 `DataFrame.index` 또는 `Series.index` 속성을 통해 가능하다.\n",
        "- Series 객체는 Index 객체를 포함하지만 Series 객체에 연산 함수를 적용할 때 Index는 연산에서 제외된다.\n",
        "- DataFrame 및 Series에 reset_index()메소드를 수행하면 새롭게 인덱스를 연속 숫자형으로 할당하며 기존 인덱스는 'index'라는 새로운 컬럼 명으로 추가한다."
      ]
    },
    {
      "cell_type": "code",
      "metadata": {
        "id": "lj0S2K5qncHZ",
        "colab": {
          "base_uri": "https://localhost:8080/"
        },
        "outputId": "a5baf35f-43f3-431a-a551-12ab33c5d5d9"
      },
      "source": [
        "titanic_df = pd.read_csv('./train.csv')\n",
        "indexes = titanic_df.index\n",
        "print(indexes)\n",
        "print('Index 객체 array값:\\n', indexes.values[0:3])"
      ],
      "execution_count": 29,
      "outputs": [
        {
          "output_type": "stream",
          "text": [
            "RangeIndex(start=0, stop=891, step=1)\n",
            "Index 객체 array값:\n",
            " [0 1 2]\n"
          ],
          "name": "stdout"
        }
      ]
    },
    {
      "cell_type": "markdown",
      "metadata": {
        "id": "9cdYtIWqvmVm"
      },
      "source": [
        "- index는 1차원 데이터이다."
      ]
    },
    {
      "cell_type": "code",
      "metadata": {
        "id": "eEWI9uX2veWD",
        "colab": {
          "base_uri": "https://localhost:8080/"
        },
        "outputId": "d50bbf5f-1f4c-41cd-eee9-cf8800f6b130"
      },
      "source": [
        "print(type(indexes))\n",
        "print(indexes.values.shape)\n",
        "print(indexes[:5].values)\n",
        "print(indexes.values[:5])\n",
        "print(indexes[6])"
      ],
      "execution_count": 30,
      "outputs": [
        {
          "output_type": "stream",
          "text": [
            "<class 'pandas.core.indexes.range.RangeIndex'>\n",
            "(891,)\n",
            "[0 1 2 3 4]\n",
            "[0 1 2 3 4]\n",
            "6\n"
          ],
          "name": "stdout"
        }
      ]
    },
    {
      "cell_type": "markdown",
      "metadata": {
        "id": "n3gGNPO1v4xr"
      },
      "source": [
        "- []를 이용하여 index의 값을 변경할 수 없다."
      ]
    },
    {
      "cell_type": "code",
      "metadata": {
        "id": "hMixD_Hfvu79",
        "colab": {
          "base_uri": "https://localhost:8080/",
          "height": 283
        },
        "outputId": "e52565b1-604a-4311-f6a2-dff5a8672511"
      },
      "source": [
        "indexes[0] = 5"
      ],
      "execution_count": 31,
      "outputs": [
        {
          "output_type": "error",
          "ename": "TypeError",
          "evalue": "ignored",
          "traceback": [
            "\u001b[0;31m---------------------------------------------------------------------------\u001b[0m",
            "\u001b[0;31mTypeError\u001b[0m                                 Traceback (most recent call last)",
            "\u001b[0;32m<ipython-input-31-2fe1c3d18d1a>\u001b[0m in \u001b[0;36m<module>\u001b[0;34m()\u001b[0m\n\u001b[0;32m----> 1\u001b[0;31m \u001b[0mindexes\u001b[0m\u001b[0;34m[\u001b[0m\u001b[0;36m0\u001b[0m\u001b[0;34m]\u001b[0m \u001b[0;34m=\u001b[0m \u001b[0;36m5\u001b[0m\u001b[0;34m\u001b[0m\u001b[0;34m\u001b[0m\u001b[0m\n\u001b[0m",
            "\u001b[0;32m/usr/local/lib/python3.7/dist-packages/pandas/core/indexes/base.py\u001b[0m in \u001b[0;36m__setitem__\u001b[0;34m(self, key, value)\u001b[0m\n\u001b[1;32m   4082\u001b[0m \u001b[0;34m\u001b[0m\u001b[0m\n\u001b[1;32m   4083\u001b[0m     \u001b[0;32mdef\u001b[0m \u001b[0m__setitem__\u001b[0m\u001b[0;34m(\u001b[0m\u001b[0mself\u001b[0m\u001b[0;34m,\u001b[0m \u001b[0mkey\u001b[0m\u001b[0;34m,\u001b[0m \u001b[0mvalue\u001b[0m\u001b[0;34m)\u001b[0m\u001b[0;34m:\u001b[0m\u001b[0;34m\u001b[0m\u001b[0;34m\u001b[0m\u001b[0m\n\u001b[0;32m-> 4084\u001b[0;31m         \u001b[0;32mraise\u001b[0m \u001b[0mTypeError\u001b[0m\u001b[0;34m(\u001b[0m\u001b[0;34m\"Index does not support mutable operations\"\u001b[0m\u001b[0;34m)\u001b[0m\u001b[0;34m\u001b[0m\u001b[0;34m\u001b[0m\u001b[0m\n\u001b[0m\u001b[1;32m   4085\u001b[0m \u001b[0;34m\u001b[0m\u001b[0m\n\u001b[1;32m   4086\u001b[0m     \u001b[0;32mdef\u001b[0m \u001b[0m__getitem__\u001b[0m\u001b[0;34m(\u001b[0m\u001b[0mself\u001b[0m\u001b[0;34m,\u001b[0m \u001b[0mkey\u001b[0m\u001b[0;34m)\u001b[0m\u001b[0;34m:\u001b[0m\u001b[0;34m\u001b[0m\u001b[0;34m\u001b[0m\u001b[0m\n",
            "\u001b[0;31mTypeError\u001b[0m: Index does not support mutable operations"
          ]
        }
      ]
    },
    {
      "cell_type": "markdown",
      "metadata": {
        "id": "yH45YhmewAH6"
      },
      "source": [
        "- Series 객체는 Index 객체를 포함하지만 Series 객체에 연산 함수를 적용할 때 Index는 연산에서 제외된다.\n",
        "- Index는 오직 식별용으로만 사용된다."
      ]
    },
    {
      "cell_type": "code",
      "metadata": {
        "id": "UbJS8prIv-Ts"
      },
      "source": [
        "series_fare = titanic_df['Fare']\n",
        "series_fare.head(5)"
      ],
      "execution_count": null,
      "outputs": []
    },
    {
      "cell_type": "code",
      "metadata": {
        "id": "mb-UETI0wRtT"
      },
      "source": [
        "print('Fare Series max 값:', series_fare.max())\n",
        "print('Fare Series sum 값:', series_fare.sum())\n",
        "print('sum() Fare Series:', sum(series_fare))\n",
        "print('Fare Series + 3:\\n',(series_fare + 3).head(3) )"
      ],
      "execution_count": null,
      "outputs": []
    },
    {
      "cell_type": "markdown",
      "metadata": {
        "id": "pnc9Jj3Iwgq2"
      },
      "source": [
        "- DataFrame 및 Series에 reset_index() 메소드를 수행하면 새롭게 인덱스를 연속 숫자 형으로 할당하며 기존 인덱스는 'index'라는 새로운 컬럼명으로 추가한다."
      ]
    },
    {
      "cell_type": "code",
      "metadata": {
        "id": "vmm14pRFwWLi"
      },
      "source": [
        "titanic_reset_df = titanic_df.reset_index()\n",
        "titanic_reset_df.head(3)"
      ],
      "execution_count": null,
      "outputs": []
    },
    {
      "cell_type": "code",
      "metadata": {
        "id": "RklulPajwxFD"
      },
      "source": [
        "titanic_reset_df.shape"
      ],
      "execution_count": null,
      "outputs": []
    },
    {
      "cell_type": "code",
      "metadata": {
        "id": "8gbb8Uinwzlu"
      },
      "source": [
        "print('### before reset_index ###')\n",
        "value_counts = titanic_df['Pclass'].value_counts()\n",
        "print(value_counts)\n",
        "print('value_counts 객체 변수 타입:',type(value_counts))\n",
        "\n",
        "new_value_counts = value_counts.reset_index(inplace=False)\n",
        "print('### After reset_index ###')\n",
        "print(new_value_counts)\n",
        "print('new_value_counts 객체 변수 타입:',type(new_value_counts))"
      ],
      "execution_count": null,
      "outputs": []
    },
    {
      "cell_type": "markdown",
      "metadata": {
        "id": "PadKOsMtCucx"
      },
      "source": [
        "### 데이터 셀렉션 및 필터링\n",
        "- []: 컬럼 기반 필터링 또는 boolean 인덱싱 필터링 제공\n",
        "- ix[], loc[], ilov[]: 명칭/위치 기반 인덱싱 제공\n",
        "- Boolean 인덱싱: 조건식에 따른 필터링을 제공"
      ]
    },
    {
      "cell_type": "code",
      "metadata": {
        "id": "hlN5WNCgGqBm"
      },
      "source": [
        "titanic_df = pd.read_csv('./train.csv')\n",
        "print('단일 컬럼 데이터 추출:\\n', titanic_df['Pclass'].head(3))\n",
        "print('\\n여러 컬럼들의 데이터 추출:\\n', titanic_df[['Survived', 'Pclass']].head(3))\n",
        "# print('[ ] 안에 숫자 index는 KeyError 오류 발생:\\n', titanic_df[0])"
      ],
      "execution_count": null,
      "outputs": []
    },
    {
      "cell_type": "markdown",
      "metadata": {
        "id": "iqWPSPeGHVtw"
      },
      "source": [
        "- 앞에서 DataFrame의 [ ] 내에 숫자 값을 입력할 경우 오류가 발생한다고 했는데, Pandas의 Index 형태로 변환 가능한 표현식은 [ ] 내에 입력할 수 있다."
      ]
    },
    {
      "cell_type": "code",
      "metadata": {
        "id": "1nmSZ7IdHrRQ"
      },
      "source": [
        "titanic_df[0:2]"
      ],
      "execution_count": null,
      "outputs": []
    },
    {
      "cell_type": "markdown",
      "metadata": {
        "id": "E_EMOVyXHuZv"
      },
      "source": [
        "- [] 내에 조건식을 입력하여 블린 인덱싱을 수행할 수 있다 (DataFrame 바로 뒤에 있는 []안에 들어갈 수 있는 것은 컬럼명과 블린인덱싱으로 범위를 좁혀서 작업하는데 도움이 된다.)"
      ]
    },
    {
      "cell_type": "code",
      "metadata": {
        "id": "B747NgIkIB0-"
      },
      "source": [
        "titanic_df[titanic_df['Pclass'] == 3].head(3)"
      ],
      "execution_count": null,
      "outputs": []
    },
    {
      "cell_type": "markdown",
      "metadata": {
        "id": "I0RE7FjCC-fe"
      },
      "source": [
        "#### ix, loc, iloc\n",
        "- 명칭 기반 인덱싱은 컬럼의 명칭을 기반으로 위치를 지정하는 방식이다.\n",
        "- 컬럼 명 같이 명칭으로 열 위치를 지정하는 방식이다\n",
        "- 위치 기반 인덱싱은 0을 출발점으로 하는 가로축, 세로축 좌표 기반의 행과 열 위치를 기반으로 데이터를 지정한다. 따라서 행, 열 위치값으로 정수가 입력된다.\n",
        "- ix[]: 명칭 기반과 위치 기반 인덱싱을 함께 제공 (사라짐)\n",
        "- loc[]: 명칭 기반 인덱싱\n",
        "- iloc[]: 위치 기반 인덱싱\n"
      ]
    },
    {
      "cell_type": "code",
      "metadata": {
        "id": "-xb9hc3jw5fL"
      },
      "source": [
        "data = {\n",
        "    'Gender': ['Male', 'Female', 'Male', 'Male'],\n",
        "    'Name': ['Chulmin', 'Eunkyung','Jinwoong','Soobeom'],\n",
        "    'Year': [2011, 2016, 2015, 2015]\n",
        "}\n",
        "\n",
        "data_df = pd.DataFrame(data, index = ['one', 'two', 'three', 'four'])\n",
        "data_df"
      ],
      "execution_count": null,
      "outputs": []
    },
    {
      "cell_type": "code",
      "metadata": {
        "id": "c6C4pDENk-8p"
      },
      "source": [
        "# data_df를 reset_index()로 새로운 숫자형 인덱스 생성\n",
        "data_df_reset = data_df.reset_index()\n",
        "data_df_reset = data_df_reset.rename(columns={'index': 'old_index'})\n",
        "\n",
        "# index값에 1을 더해서 1부터 시작하는 새로운 index값 생성\n",
        "data_df_reset.index = data_df_reset.index + 1\n",
        "data_df_reset"
      ],
      "execution_count": null,
      "outputs": []
    },
    {
      "cell_type": "markdown",
      "metadata": {
        "id": "cD9F-64oljty"
      },
      "source": [
        "- iloc: 위치기반 인덱싱 제공"
      ]
    },
    {
      "cell_type": "code",
      "metadata": {
        "id": "7xBHea4wlfxt"
      },
      "source": [
        "data_df"
      ],
      "execution_count": null,
      "outputs": []
    },
    {
      "cell_type": "code",
      "metadata": {
        "id": "hHbvPXDbmJNP"
      },
      "source": [
        "data_df.iloc[0, 0]"
      ],
      "execution_count": null,
      "outputs": []
    },
    {
      "cell_type": "code",
      "metadata": {
        "id": "T3s8FxSamOPI"
      },
      "source": [
        "data_df.iloc[0, 'Name'] # 에러 발생"
      ],
      "execution_count": null,
      "outputs": []
    },
    {
      "cell_type": "code",
      "metadata": {
        "id": "gnlezA4mmUmJ"
      },
      "source": [
        "data_df_reset.iloc[0, 1]"
      ],
      "execution_count": null,
      "outputs": []
    },
    {
      "cell_type": "markdown",
      "metadata": {
        "id": "dUdo8ix6mksk"
      },
      "source": [
        "- loc: 명칭기반 인덱싱 제공"
      ]
    },
    {
      "cell_type": "code",
      "metadata": {
        "id": "SPYbicNwmiss"
      },
      "source": [
        "data_df.loc['one', 'Name']"
      ],
      "execution_count": null,
      "outputs": []
    },
    {
      "cell_type": "code",
      "metadata": {
        "id": "ht-_C8PgnOL0"
      },
      "source": [
        "data_df_reset"
      ],
      "execution_count": null,
      "outputs": []
    },
    {
      "cell_type": "code",
      "metadata": {
        "id": "80lM41IfmtfR"
      },
      "source": [
        "data_df_reset.loc[1, 'Name']"
      ],
      "execution_count": null,
      "outputs": []
    },
    {
      "cell_type": "code",
      "metadata": {
        "id": "a9vUI58_m5gw"
      },
      "source": [
        "print('위치기반 iloc slicing\\n', data_df.iloc[0:1, 0],'\\n')\n",
        "print('명칭기반 loc slicing\\n', data_df.loc['one':'two', 'Name'])"
      ],
      "execution_count": null,
      "outputs": []
    },
    {
      "cell_type": "code",
      "metadata": {
        "id": "2KglNAQnnEIo"
      },
      "source": [
        "data_df_reset.loc[1:2, 'Name']"
      ],
      "execution_count": null,
      "outputs": []
    },
    {
      "cell_type": "markdown",
      "metadata": {
        "id": "5Ok6RgSKGcVx"
      },
      "source": [
        "### Boolean indexing\n",
        "- 위치기반, 명칭기반 인덱싱 모두 사용할 필요없이 조건식을 []기입하여 간편하게 필터링"
      ]
    },
    {
      "cell_type": "code",
      "metadata": {
        "id": "lOssBMvQGljM"
      },
      "source": [
        "titanic_boolean = titanic_df[titanic_df['Age'] > 60]\n",
        "print(type(titanic_boolean))\n",
        "titanic_boolean.head(3)"
      ],
      "execution_count": null,
      "outputs": []
    },
    {
      "cell_type": "code",
      "metadata": {
        "id": "Y-dOX5Fsnd2I"
      },
      "source": [
        "titanic_df['Age'] > 60\n",
        "\n",
        "var1 = titanic_df['Age'] > 60\n",
        "print(type(var1)) # Boolean Seriese 객체"
      ],
      "execution_count": null,
      "outputs": []
    },
    {
      "cell_type": "code",
      "metadata": {
        "id": "X2xxLj4wnsfn"
      },
      "source": [
        "titanic_df[titanic_df['Age'] > 60][['Name', 'Age']].head(3)"
      ],
      "execution_count": null,
      "outputs": []
    },
    {
      "cell_type": "code",
      "metadata": {
        "id": "T5klS70Cn3ZP"
      },
      "source": [
        "titanic_df[['Name', 'Age']][titanic_df['Age'] > 60].head(3)"
      ],
      "execution_count": null,
      "outputs": []
    },
    {
      "cell_type": "code",
      "metadata": {
        "id": "BzePVROJoH4J"
      },
      "source": [
        "titanic_df.loc[titanic_df['Age'] > 60, ['Name', 'Age']].head(3)"
      ],
      "execution_count": null,
      "outputs": []
    },
    {
      "cell_type": "markdown",
      "metadata": {
        "id": "wEbcsn8_oWh4"
      },
      "source": [
        "- 논리 연산자로 결합된 조건식도 불린 인덱싱으로 적용 가능하다"
      ]
    },
    {
      "cell_type": "code",
      "metadata": {
        "id": "aSmmEqkboSJm"
      },
      "source": [
        "titanic_df[ (titanic_df['Age'] > 60) & (titanic_df['Pclass']==1) & (titanic_df['Sex'] == 'female')].head(3)"
      ],
      "execution_count": null,
      "outputs": []
    },
    {
      "cell_type": "markdown",
      "metadata": {
        "id": "FdV0is2Cou9k"
      },
      "source": [
        "- 조건식은 변수로 할당 가능하다"
      ]
    },
    {
      "cell_type": "code",
      "metadata": {
        "id": "wOlv1GDDosIz"
      },
      "source": [
        "cond1 = titanic_df['Age'] > 60\n",
        "cond2 = titanic_df['Pclass'] == 1\n",
        "cond3 = titanic_df['Sex'] == 'female'\n",
        "\n",
        "titanic_df[ cond1 & cond2 & cond3 ]"
      ],
      "execution_count": null,
      "outputs": []
    },
    {
      "cell_type": "markdown",
      "metadata": {
        "id": "hxWZVHRfkdAV"
      },
      "source": [
        "### Aggregation 함수\n",
        "- sum, max, min, count 등의 함수는 DataFrame/Series에서 집합(Aggregation) 연산을 수행\n",
        "- DataFrame의 경우 DataFrame에서 바로 aggregation을 호출할 경우 모든 컬럼에 해당 aggregation을 적용\n",
        "- Aggregation 함수 호출 시 axis값을 명시하지 않으면 axis=0(**행축 방향**)과 같은 결과 출력"
      ]
    },
    {
      "cell_type": "code",
      "metadata": {
        "colab": {
          "base_uri": "https://localhost:8080/"
        },
        "id": "ct9kpnCHlVC-",
        "outputId": "43b60417-b579-48fa-d15b-0fe23de399a4"
      },
      "source": [
        "titanic_df.count()"
      ],
      "execution_count": 33,
      "outputs": [
        {
          "output_type": "execute_result",
          "data": {
            "text/plain": [
              "PassengerId    891\n",
              "Survived       891\n",
              "Pclass         891\n",
              "Name           891\n",
              "Sex            891\n",
              "Age            714\n",
              "SibSp          891\n",
              "Parch          891\n",
              "Ticket         891\n",
              "Fare           891\n",
              "Cabin          204\n",
              "Embarked       889\n",
              "dtype: int64"
            ]
          },
          "metadata": {
            "tags": []
          },
          "execution_count": 33
        }
      ]
    },
    {
      "cell_type": "markdown",
      "metadata": {
        "id": "8pV2W1Tqm33I"
      },
      "source": [
        "- 특정 컬럼들로 Aggregation 메소드 수행"
      ]
    },
    {
      "cell_type": "code",
      "metadata": {
        "colab": {
          "base_uri": "https://localhost:8080/"
        },
        "id": "Rvu_Vb6Tm3Rw",
        "outputId": "04cf51b4-aaa5-4221-f9c3-b06fb8b924d4"
      },
      "source": [
        "titanic_df[['Age', 'Fare']].mean(axis=1)"
      ],
      "execution_count": 35,
      "outputs": [
        {
          "output_type": "execute_result",
          "data": {
            "text/plain": [
              "0      14.62500\n",
              "1      54.64165\n",
              "2      16.96250\n",
              "3      44.05000\n",
              "4      21.52500\n",
              "         ...   \n",
              "886    20.00000\n",
              "887    24.50000\n",
              "888    23.45000\n",
              "889    28.00000\n",
              "890    19.87500\n",
              "Length: 891, dtype: float64"
            ]
          },
          "metadata": {
            "tags": []
          },
          "execution_count": 35
        }
      ]
    },
    {
      "cell_type": "code",
      "metadata": {
        "colab": {
          "base_uri": "https://localhost:8080/"
        },
        "id": "d7MLYexFnBHv",
        "outputId": "c74141bb-ddb4-4623-dfe1-ef58d5fd854f"
      },
      "source": [
        "titanic_df[['Age', 'Fare']].mean(axis=0)"
      ],
      "execution_count": 51,
      "outputs": [
        {
          "output_type": "execute_result",
          "data": {
            "text/plain": [
              "Age     29.699118\n",
              "Fare    32.204208\n",
              "dtype: float64"
            ]
          },
          "metadata": {
            "tags": []
          },
          "execution_count": 51
        }
      ]
    },
    {
      "cell_type": "code",
      "metadata": {
        "colab": {
          "base_uri": "https://localhost:8080/"
        },
        "id": "W14qMrhqnETB",
        "outputId": "3ecff8d5-fd65-4cda-9521-91ce41927e04"
      },
      "source": [
        "titanic_df[['Age', 'Fare']].count()"
      ],
      "execution_count": 38,
      "outputs": [
        {
          "output_type": "execute_result",
          "data": {
            "text/plain": [
              "Age     714\n",
              "Fare    891\n",
              "dtype: int64"
            ]
          },
          "metadata": {
            "tags": []
          },
          "execution_count": 38
        }
      ]
    },
    {
      "cell_type": "markdown",
      "metadata": {
        "id": "g85wq82nmAKr"
      },
      "source": [
        "### Group By\n",
        "- DataFrame은 Group by 연산을 위해 groupby() 메소드를 제공\n",
        "- groupby() 메소드는 by 인자로 group by 하려는 컬럼명을 입력 받으면 DataFrameGroupBy 객체를 반환\n",
        "- 이렇게 반환된 DataFrameGroupBy 객체에 aggregation 함수를 수행"
      ]
    },
    {
      "cell_type": "code",
      "metadata": {
        "id": "uQ2_sDmEo9qd",
        "colab": {
          "base_uri": "https://localhost:8080/"
        },
        "outputId": "be00c758-4d55-48a7-d3b2-d367f68b1bf4"
      },
      "source": [
        "titanic_groupby = titanic_df.groupby(by='Pclass')\n",
        "print(type(titanic_groupby))\n",
        "print(titanic_groupby)"
      ],
      "execution_count": 39,
      "outputs": [
        {
          "output_type": "stream",
          "text": [
            "<class 'pandas.core.groupby.generic.DataFrameGroupBy'>\n",
            "<pandas.core.groupby.generic.DataFrameGroupBy object at 0x7fd3e804d050>\n"
          ],
          "name": "stdout"
        }
      ]
    },
    {
      "cell_type": "markdown",
      "metadata": {
        "id": "GnehWfrPnULC"
      },
      "source": [
        "- DataFrameGroupBy객체에 Aggregation 메소드를 호출하여 Group by 수행"
      ]
    },
    {
      "cell_type": "code",
      "metadata": {
        "colab": {
          "base_uri": "https://localhost:8080/",
          "height": 193
        },
        "id": "QTgQB3hXnP69",
        "outputId": "90cc5248-aa50-4fba-9d80-f7f0df153127"
      },
      "source": [
        "titanic_groupby = titanic_df.groupby('Pclass').count()\n",
        "titanic_groupby"
      ],
      "execution_count": 40,
      "outputs": [
        {
          "output_type": "execute_result",
          "data": {
            "text/html": [
              "<div>\n",
              "<style scoped>\n",
              "    .dataframe tbody tr th:only-of-type {\n",
              "        vertical-align: middle;\n",
              "    }\n",
              "\n",
              "    .dataframe tbody tr th {\n",
              "        vertical-align: top;\n",
              "    }\n",
              "\n",
              "    .dataframe thead th {\n",
              "        text-align: right;\n",
              "    }\n",
              "</style>\n",
              "<table border=\"1\" class=\"dataframe\">\n",
              "  <thead>\n",
              "    <tr style=\"text-align: right;\">\n",
              "      <th></th>\n",
              "      <th>PassengerId</th>\n",
              "      <th>Survived</th>\n",
              "      <th>Name</th>\n",
              "      <th>Sex</th>\n",
              "      <th>Age</th>\n",
              "      <th>SibSp</th>\n",
              "      <th>Parch</th>\n",
              "      <th>Ticket</th>\n",
              "      <th>Fare</th>\n",
              "      <th>Cabin</th>\n",
              "      <th>Embarked</th>\n",
              "    </tr>\n",
              "    <tr>\n",
              "      <th>Pclass</th>\n",
              "      <th></th>\n",
              "      <th></th>\n",
              "      <th></th>\n",
              "      <th></th>\n",
              "      <th></th>\n",
              "      <th></th>\n",
              "      <th></th>\n",
              "      <th></th>\n",
              "      <th></th>\n",
              "      <th></th>\n",
              "      <th></th>\n",
              "    </tr>\n",
              "  </thead>\n",
              "  <tbody>\n",
              "    <tr>\n",
              "      <th>1</th>\n",
              "      <td>216</td>\n",
              "      <td>216</td>\n",
              "      <td>216</td>\n",
              "      <td>216</td>\n",
              "      <td>186</td>\n",
              "      <td>216</td>\n",
              "      <td>216</td>\n",
              "      <td>216</td>\n",
              "      <td>216</td>\n",
              "      <td>176</td>\n",
              "      <td>214</td>\n",
              "    </tr>\n",
              "    <tr>\n",
              "      <th>2</th>\n",
              "      <td>184</td>\n",
              "      <td>184</td>\n",
              "      <td>184</td>\n",
              "      <td>184</td>\n",
              "      <td>173</td>\n",
              "      <td>184</td>\n",
              "      <td>184</td>\n",
              "      <td>184</td>\n",
              "      <td>184</td>\n",
              "      <td>16</td>\n",
              "      <td>184</td>\n",
              "    </tr>\n",
              "    <tr>\n",
              "      <th>3</th>\n",
              "      <td>491</td>\n",
              "      <td>491</td>\n",
              "      <td>491</td>\n",
              "      <td>491</td>\n",
              "      <td>355</td>\n",
              "      <td>491</td>\n",
              "      <td>491</td>\n",
              "      <td>491</td>\n",
              "      <td>491</td>\n",
              "      <td>12</td>\n",
              "      <td>491</td>\n",
              "    </tr>\n",
              "  </tbody>\n",
              "</table>\n",
              "</div>"
            ],
            "text/plain": [
              "        PassengerId  Survived  Name  Sex  ...  Ticket  Fare  Cabin  Embarked\n",
              "Pclass                                    ...                               \n",
              "1               216       216   216  216  ...     216   216    176       214\n",
              "2               184       184   184  184  ...     184   184     16       184\n",
              "3               491       491   491  491  ...     491   491     12       491\n",
              "\n",
              "[3 rows x 11 columns]"
            ]
          },
          "metadata": {
            "tags": []
          },
          "execution_count": 40
        }
      ]
    },
    {
      "cell_type": "code",
      "metadata": {
        "colab": {
          "base_uri": "https://localhost:8080/"
        },
        "id": "3UfFJ6wTnh3k",
        "outputId": "beb395d7-4cb2-4cac-f297-e6e7a6906067"
      },
      "source": [
        "print(type(titanic_groupby))\n",
        "print(titanic_groupby.shape)\n",
        "print(titanic_groupby.index)"
      ],
      "execution_count": 41,
      "outputs": [
        {
          "output_type": "stream",
          "text": [
            "<class 'pandas.core.frame.DataFrame'>\n",
            "(3, 11)\n",
            "Int64Index([1, 2, 3], dtype='int64', name='Pclass')\n"
          ],
          "name": "stdout"
        }
      ]
    },
    {
      "cell_type": "code",
      "metadata": {
        "colab": {
          "base_uri": "https://localhost:8080/",
          "height": 173
        },
        "id": "nJGLllUunmVe",
        "outputId": "69fb225c-ab9a-47a3-c7a4-c042cae191db"
      },
      "source": [
        "titanic_groupby = titanic_df.groupby(by='Pclass')[['PassengerId', 'Survived']].count()\n",
        "titanic_groupby\n"
      ],
      "execution_count": 43,
      "outputs": [
        {
          "output_type": "execute_result",
          "data": {
            "text/html": [
              "<div>\n",
              "<style scoped>\n",
              "    .dataframe tbody tr th:only-of-type {\n",
              "        vertical-align: middle;\n",
              "    }\n",
              "\n",
              "    .dataframe tbody tr th {\n",
              "        vertical-align: top;\n",
              "    }\n",
              "\n",
              "    .dataframe thead th {\n",
              "        text-align: right;\n",
              "    }\n",
              "</style>\n",
              "<table border=\"1\" class=\"dataframe\">\n",
              "  <thead>\n",
              "    <tr style=\"text-align: right;\">\n",
              "      <th></th>\n",
              "      <th>PassengerId</th>\n",
              "      <th>Survived</th>\n",
              "    </tr>\n",
              "    <tr>\n",
              "      <th>Pclass</th>\n",
              "      <th></th>\n",
              "      <th></th>\n",
              "    </tr>\n",
              "  </thead>\n",
              "  <tbody>\n",
              "    <tr>\n",
              "      <th>1</th>\n",
              "      <td>216</td>\n",
              "      <td>216</td>\n",
              "    </tr>\n",
              "    <tr>\n",
              "      <th>2</th>\n",
              "      <td>184</td>\n",
              "      <td>184</td>\n",
              "    </tr>\n",
              "    <tr>\n",
              "      <th>3</th>\n",
              "      <td>491</td>\n",
              "      <td>491</td>\n",
              "    </tr>\n",
              "  </tbody>\n",
              "</table>\n",
              "</div>"
            ],
            "text/plain": [
              "        PassengerId  Survived\n",
              "Pclass                       \n",
              "1               216       216\n",
              "2               184       184\n",
              "3               491       491"
            ]
          },
          "metadata": {
            "tags": []
          },
          "execution_count": 43
        }
      ]
    },
    {
      "cell_type": "code",
      "metadata": {
        "colab": {
          "base_uri": "https://localhost:8080/",
          "height": 173
        },
        "id": "_KnrGC1HnvpN",
        "outputId": "14ae1691-b749-44f4-fba7-c1f17d1d9f38"
      },
      "source": [
        "titanic_df[['Pclass', 'PassengerId', 'Survived']].groupby('Pclass').count()"
      ],
      "execution_count": 44,
      "outputs": [
        {
          "output_type": "execute_result",
          "data": {
            "text/html": [
              "<div>\n",
              "<style scoped>\n",
              "    .dataframe tbody tr th:only-of-type {\n",
              "        vertical-align: middle;\n",
              "    }\n",
              "\n",
              "    .dataframe tbody tr th {\n",
              "        vertical-align: top;\n",
              "    }\n",
              "\n",
              "    .dataframe thead th {\n",
              "        text-align: right;\n",
              "    }\n",
              "</style>\n",
              "<table border=\"1\" class=\"dataframe\">\n",
              "  <thead>\n",
              "    <tr style=\"text-align: right;\">\n",
              "      <th></th>\n",
              "      <th>PassengerId</th>\n",
              "      <th>Survived</th>\n",
              "    </tr>\n",
              "    <tr>\n",
              "      <th>Pclass</th>\n",
              "      <th></th>\n",
              "      <th></th>\n",
              "    </tr>\n",
              "  </thead>\n",
              "  <tbody>\n",
              "    <tr>\n",
              "      <th>1</th>\n",
              "      <td>216</td>\n",
              "      <td>216</td>\n",
              "    </tr>\n",
              "    <tr>\n",
              "      <th>2</th>\n",
              "      <td>184</td>\n",
              "      <td>184</td>\n",
              "    </tr>\n",
              "    <tr>\n",
              "      <th>3</th>\n",
              "      <td>491</td>\n",
              "      <td>491</td>\n",
              "    </tr>\n",
              "  </tbody>\n",
              "</table>\n",
              "</div>"
            ],
            "text/plain": [
              "        PassengerId  Survived\n",
              "Pclass                       \n",
              "1               216       216\n",
              "2               184       184\n",
              "3               491       491"
            ]
          },
          "metadata": {
            "tags": []
          },
          "execution_count": 44
        }
      ]
    },
    {
      "cell_type": "code",
      "metadata": {
        "colab": {
          "base_uri": "https://localhost:8080/"
        },
        "id": "hiZw51MTn7Rb",
        "outputId": "adbc860c-429c-45b1-e083-db46d3e25436"
      },
      "source": [
        "titanic_df.groupby('Pclass')['Pclass'].count()"
      ],
      "execution_count": 45,
      "outputs": [
        {
          "output_type": "execute_result",
          "data": {
            "text/plain": [
              "Pclass\n",
              "1    216\n",
              "2    184\n",
              "3    491\n",
              "Name: Pclass, dtype: int64"
            ]
          },
          "metadata": {
            "tags": []
          },
          "execution_count": 45
        }
      ]
    },
    {
      "cell_type": "code",
      "metadata": {
        "colab": {
          "base_uri": "https://localhost:8080/"
        },
        "id": "1m0SpB1soA9X",
        "outputId": "92096dd2-6aed-4532-c9d8-4625e9d2f416"
      },
      "source": [
        "titanic_df['Pclass'].value_counts().sort_index()"
      ],
      "execution_count": 47,
      "outputs": [
        {
          "output_type": "execute_result",
          "data": {
            "text/plain": [
              "1    216\n",
              "2    184\n",
              "3    491\n",
              "Name: Pclass, dtype: int64"
            ]
          },
          "metadata": {
            "tags": []
          },
          "execution_count": 47
        }
      ]
    },
    {
      "cell_type": "markdown",
      "metadata": {
        "id": "DpaIncCOoJZU"
      },
      "source": [
        "- Pandas는 여러개의 aggregation 함수를 적용할 수 있도록 agg() 함수를 제공"
      ]
    },
    {
      "cell_type": "code",
      "metadata": {
        "colab": {
          "base_uri": "https://localhost:8080/",
          "height": 173
        },
        "id": "Ham5MK-AoGm3",
        "outputId": "39b76ee3-6b1f-407c-bf1b-6623533971f1"
      },
      "source": [
        "titanic_df.groupby('Pclass')['Age'].agg([max, min])"
      ],
      "execution_count": 48,
      "outputs": [
        {
          "output_type": "execute_result",
          "data": {
            "text/html": [
              "<div>\n",
              "<style scoped>\n",
              "    .dataframe tbody tr th:only-of-type {\n",
              "        vertical-align: middle;\n",
              "    }\n",
              "\n",
              "    .dataframe tbody tr th {\n",
              "        vertical-align: top;\n",
              "    }\n",
              "\n",
              "    .dataframe thead th {\n",
              "        text-align: right;\n",
              "    }\n",
              "</style>\n",
              "<table border=\"1\" class=\"dataframe\">\n",
              "  <thead>\n",
              "    <tr style=\"text-align: right;\">\n",
              "      <th></th>\n",
              "      <th>max</th>\n",
              "      <th>min</th>\n",
              "    </tr>\n",
              "    <tr>\n",
              "      <th>Pclass</th>\n",
              "      <th></th>\n",
              "      <th></th>\n",
              "    </tr>\n",
              "  </thead>\n",
              "  <tbody>\n",
              "    <tr>\n",
              "      <th>1</th>\n",
              "      <td>80.0</td>\n",
              "      <td>0.92</td>\n",
              "    </tr>\n",
              "    <tr>\n",
              "      <th>2</th>\n",
              "      <td>70.0</td>\n",
              "      <td>0.67</td>\n",
              "    </tr>\n",
              "    <tr>\n",
              "      <th>3</th>\n",
              "      <td>74.0</td>\n",
              "      <td>0.42</td>\n",
              "    </tr>\n",
              "  </tbody>\n",
              "</table>\n",
              "</div>"
            ],
            "text/plain": [
              "         max   min\n",
              "Pclass            \n",
              "1       80.0  0.92\n",
              "2       70.0  0.67\n",
              "3       74.0  0.42"
            ]
          },
          "metadata": {
            "tags": []
          },
          "execution_count": 48
        }
      ]
    },
    {
      "cell_type": "markdown",
      "metadata": {
        "id": "TYWikB3Zod2Q"
      },
      "source": [
        "- 딕셔너리를 이용하여 다양한 aggregation 메소드를 적용"
      ]
    },
    {
      "cell_type": "code",
      "metadata": {
        "colab": {
          "base_uri": "https://localhost:8080/",
          "height": 173
        },
        "id": "tdMMhMeloYnd",
        "outputId": "88b84d48-c178-42ce-b1e1-389796af57a0"
      },
      "source": [
        "agg_format = {'Age': 'max', 'SibSp':'sum', 'Fare':'mean'}\n",
        "titanic_df.groupby('Pclass').agg(agg_format)"
      ],
      "execution_count": 49,
      "outputs": [
        {
          "output_type": "execute_result",
          "data": {
            "text/html": [
              "<div>\n",
              "<style scoped>\n",
              "    .dataframe tbody tr th:only-of-type {\n",
              "        vertical-align: middle;\n",
              "    }\n",
              "\n",
              "    .dataframe tbody tr th {\n",
              "        vertical-align: top;\n",
              "    }\n",
              "\n",
              "    .dataframe thead th {\n",
              "        text-align: right;\n",
              "    }\n",
              "</style>\n",
              "<table border=\"1\" class=\"dataframe\">\n",
              "  <thead>\n",
              "    <tr style=\"text-align: right;\">\n",
              "      <th></th>\n",
              "      <th>Age</th>\n",
              "      <th>SibSp</th>\n",
              "      <th>Fare</th>\n",
              "    </tr>\n",
              "    <tr>\n",
              "      <th>Pclass</th>\n",
              "      <th></th>\n",
              "      <th></th>\n",
              "      <th></th>\n",
              "    </tr>\n",
              "  </thead>\n",
              "  <tbody>\n",
              "    <tr>\n",
              "      <th>1</th>\n",
              "      <td>80.0</td>\n",
              "      <td>90</td>\n",
              "      <td>84.154687</td>\n",
              "    </tr>\n",
              "    <tr>\n",
              "      <th>2</th>\n",
              "      <td>70.0</td>\n",
              "      <td>74</td>\n",
              "      <td>20.662183</td>\n",
              "    </tr>\n",
              "    <tr>\n",
              "      <th>3</th>\n",
              "      <td>74.0</td>\n",
              "      <td>302</td>\n",
              "      <td>13.675550</td>\n",
              "    </tr>\n",
              "  </tbody>\n",
              "</table>\n",
              "</div>"
            ],
            "text/plain": [
              "         Age  SibSp       Fare\n",
              "Pclass                        \n",
              "1       80.0     90  84.154687\n",
              "2       70.0     74  20.662183\n",
              "3       74.0    302  13.675550"
            ]
          },
          "metadata": {
            "tags": []
          },
          "execution_count": 49
        }
      ]
    },
    {
      "cell_type": "markdown",
      "metadata": {
        "id": "khL0rD_guvhE"
      },
      "source": [
        "### 결손 데이터 처리하기\n",
        "- isna(): DataFrame의 isna() 메소드는 주어진 컬럼값들이 NaN인지 여부를 True/False값으로 반환한다.(NaN이면 True)\n",
        "- fillna(): Missing 데이터를 인자로 주어진 갑스로 대체한다."
      ]
    },
    {
      "cell_type": "code",
      "metadata": {
        "colab": {
          "base_uri": "https://localhost:8080/",
          "height": 162
        },
        "id": "880JvuHzozrl",
        "outputId": "a2c4512f-5a55-4704-bf77-76d79a2ed651"
      },
      "source": [
        "titanic_df.isna().head(3)"
      ],
      "execution_count": 52,
      "outputs": [
        {
          "output_type": "execute_result",
          "data": {
            "text/html": [
              "<div>\n",
              "<style scoped>\n",
              "    .dataframe tbody tr th:only-of-type {\n",
              "        vertical-align: middle;\n",
              "    }\n",
              "\n",
              "    .dataframe tbody tr th {\n",
              "        vertical-align: top;\n",
              "    }\n",
              "\n",
              "    .dataframe thead th {\n",
              "        text-align: right;\n",
              "    }\n",
              "</style>\n",
              "<table border=\"1\" class=\"dataframe\">\n",
              "  <thead>\n",
              "    <tr style=\"text-align: right;\">\n",
              "      <th></th>\n",
              "      <th>PassengerId</th>\n",
              "      <th>Survived</th>\n",
              "      <th>Pclass</th>\n",
              "      <th>Name</th>\n",
              "      <th>Sex</th>\n",
              "      <th>Age</th>\n",
              "      <th>SibSp</th>\n",
              "      <th>Parch</th>\n",
              "      <th>Ticket</th>\n",
              "      <th>Fare</th>\n",
              "      <th>Cabin</th>\n",
              "      <th>Embarked</th>\n",
              "    </tr>\n",
              "  </thead>\n",
              "  <tbody>\n",
              "    <tr>\n",
              "      <th>0</th>\n",
              "      <td>False</td>\n",
              "      <td>False</td>\n",
              "      <td>False</td>\n",
              "      <td>False</td>\n",
              "      <td>False</td>\n",
              "      <td>False</td>\n",
              "      <td>False</td>\n",
              "      <td>False</td>\n",
              "      <td>False</td>\n",
              "      <td>False</td>\n",
              "      <td>True</td>\n",
              "      <td>False</td>\n",
              "    </tr>\n",
              "    <tr>\n",
              "      <th>1</th>\n",
              "      <td>False</td>\n",
              "      <td>False</td>\n",
              "      <td>False</td>\n",
              "      <td>False</td>\n",
              "      <td>False</td>\n",
              "      <td>False</td>\n",
              "      <td>False</td>\n",
              "      <td>False</td>\n",
              "      <td>False</td>\n",
              "      <td>False</td>\n",
              "      <td>False</td>\n",
              "      <td>False</td>\n",
              "    </tr>\n",
              "    <tr>\n",
              "      <th>2</th>\n",
              "      <td>False</td>\n",
              "      <td>False</td>\n",
              "      <td>False</td>\n",
              "      <td>False</td>\n",
              "      <td>False</td>\n",
              "      <td>False</td>\n",
              "      <td>False</td>\n",
              "      <td>False</td>\n",
              "      <td>False</td>\n",
              "      <td>False</td>\n",
              "      <td>True</td>\n",
              "      <td>False</td>\n",
              "    </tr>\n",
              "  </tbody>\n",
              "</table>\n",
              "</div>"
            ],
            "text/plain": [
              "   PassengerId  Survived  Pclass   Name  ...  Ticket   Fare  Cabin  Embarked\n",
              "0        False     False   False  False  ...   False  False   True     False\n",
              "1        False     False   False  False  ...   False  False  False     False\n",
              "2        False     False   False  False  ...   False  False   True     False\n",
              "\n",
              "[3 rows x 12 columns]"
            ]
          },
          "metadata": {
            "tags": []
          },
          "execution_count": 52
        }
      ]
    },
    {
      "cell_type": "markdown",
      "metadata": {
        "id": "Pa6D2nZXvfw_"
      },
      "source": [
        "- isna() 반환 결과에 sum()을 호출하여 컬럼별로 NaN 건수를 구할 수 있다."
      ]
    },
    {
      "cell_type": "code",
      "metadata": {
        "colab": {
          "base_uri": "https://localhost:8080/"
        },
        "id": "HLHkLyetvcH9",
        "outputId": "46b58057-e35d-442a-9327-14a0abaff094"
      },
      "source": [
        "titanic_df.isna().sum()"
      ],
      "execution_count": 53,
      "outputs": [
        {
          "output_type": "execute_result",
          "data": {
            "text/plain": [
              "PassengerId      0\n",
              "Survived         0\n",
              "Pclass           0\n",
              "Name             0\n",
              "Sex              0\n",
              "Age            177\n",
              "SibSp            0\n",
              "Parch            0\n",
              "Ticket           0\n",
              "Fare             0\n",
              "Cabin          687\n",
              "Embarked         2\n",
              "dtype: int64"
            ]
          },
          "metadata": {
            "tags": []
          },
          "execution_count": 53
        }
      ]
    },
    {
      "cell_type": "markdown",
      "metadata": {
        "id": "1ga2HC9Vvobl"
      },
      "source": [
        "- fillna로 Missing 데이터 대체하기"
      ]
    },
    {
      "cell_type": "code",
      "metadata": {
        "colab": {
          "base_uri": "https://localhost:8080/",
          "height": 213
        },
        "id": "Au0beoqQvmyI",
        "outputId": "8b576b9f-ba08-467b-e063-12157d069320"
      },
      "source": [
        "titanic_df['Cabin'] = titanic_df['Cabin'].fillna('C000')\n",
        "titanic_df.head(3)"
      ],
      "execution_count": 54,
      "outputs": [
        {
          "output_type": "execute_result",
          "data": {
            "text/html": [
              "<div>\n",
              "<style scoped>\n",
              "    .dataframe tbody tr th:only-of-type {\n",
              "        vertical-align: middle;\n",
              "    }\n",
              "\n",
              "    .dataframe tbody tr th {\n",
              "        vertical-align: top;\n",
              "    }\n",
              "\n",
              "    .dataframe thead th {\n",
              "        text-align: right;\n",
              "    }\n",
              "</style>\n",
              "<table border=\"1\" class=\"dataframe\">\n",
              "  <thead>\n",
              "    <tr style=\"text-align: right;\">\n",
              "      <th></th>\n",
              "      <th>PassengerId</th>\n",
              "      <th>Survived</th>\n",
              "      <th>Pclass</th>\n",
              "      <th>Name</th>\n",
              "      <th>Sex</th>\n",
              "      <th>Age</th>\n",
              "      <th>SibSp</th>\n",
              "      <th>Parch</th>\n",
              "      <th>Ticket</th>\n",
              "      <th>Fare</th>\n",
              "      <th>Cabin</th>\n",
              "      <th>Embarked</th>\n",
              "    </tr>\n",
              "  </thead>\n",
              "  <tbody>\n",
              "    <tr>\n",
              "      <th>0</th>\n",
              "      <td>1</td>\n",
              "      <td>0</td>\n",
              "      <td>3</td>\n",
              "      <td>Braund, Mr....</td>\n",
              "      <td>male</td>\n",
              "      <td>22.0</td>\n",
              "      <td>1</td>\n",
              "      <td>0</td>\n",
              "      <td>A/5 21171</td>\n",
              "      <td>7.2500</td>\n",
              "      <td>C000</td>\n",
              "      <td>S</td>\n",
              "    </tr>\n",
              "    <tr>\n",
              "      <th>1</th>\n",
              "      <td>2</td>\n",
              "      <td>1</td>\n",
              "      <td>1</td>\n",
              "      <td>Cumings, Mr...</td>\n",
              "      <td>female</td>\n",
              "      <td>38.0</td>\n",
              "      <td>1</td>\n",
              "      <td>0</td>\n",
              "      <td>PC 17599</td>\n",
              "      <td>71.2833</td>\n",
              "      <td>C85</td>\n",
              "      <td>C</td>\n",
              "    </tr>\n",
              "    <tr>\n",
              "      <th>2</th>\n",
              "      <td>3</td>\n",
              "      <td>1</td>\n",
              "      <td>3</td>\n",
              "      <td>Heikkinen, ...</td>\n",
              "      <td>female</td>\n",
              "      <td>26.0</td>\n",
              "      <td>0</td>\n",
              "      <td>0</td>\n",
              "      <td>STON/O2. 31...</td>\n",
              "      <td>7.9250</td>\n",
              "      <td>C000</td>\n",
              "      <td>S</td>\n",
              "    </tr>\n",
              "  </tbody>\n",
              "</table>\n",
              "</div>"
            ],
            "text/plain": [
              "   PassengerId  Survived  Pclass  ...     Fare Cabin  Embarked\n",
              "0            1         0       3  ...   7.2500  C000         S\n",
              "1            2         1       1  ...  71.2833   C85         C\n",
              "2            3         1       3  ...   7.9250  C000         S\n",
              "\n",
              "[3 rows x 12 columns]"
            ]
          },
          "metadata": {
            "tags": []
          },
          "execution_count": 54
        }
      ]
    },
    {
      "cell_type": "code",
      "metadata": {
        "colab": {
          "base_uri": "https://localhost:8080/"
        },
        "id": "jxzxoelbvyfn",
        "outputId": "57598f8c-3ec9-4c86-99bc-f1114e4eaff4"
      },
      "source": [
        "titanic_df['Age'] = titanic_df['Age'].fillna(titanic_df['Age'].mean())\n",
        "titanic_df['Embarked'] = titanic_df['Embarked'].fillna('S')\n",
        "titanic_df.isna().sum()"
      ],
      "execution_count": 55,
      "outputs": [
        {
          "output_type": "execute_result",
          "data": {
            "text/plain": [
              "PassengerId    0\n",
              "Survived       0\n",
              "Pclass         0\n",
              "Name           0\n",
              "Sex            0\n",
              "Age            0\n",
              "SibSp          0\n",
              "Parch          0\n",
              "Ticket         0\n",
              "Fare           0\n",
              "Cabin          0\n",
              "Embarked       0\n",
              "dtype: int64"
            ]
          },
          "metadata": {
            "tags": []
          },
          "execution_count": 55
        }
      ]
    },
    {
      "cell_type": "code",
      "metadata": {
        "id": "_r2R7xC4wBTn"
      },
      "source": [
        ""
      ],
      "execution_count": null,
      "outputs": []
    }
  ]
}