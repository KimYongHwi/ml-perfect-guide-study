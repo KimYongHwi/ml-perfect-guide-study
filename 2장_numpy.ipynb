{
  "nbformat": 4,
  "nbformat_minor": 0,
  "metadata": {
    "colab": {
      "name": "2장. numpy.ipynb",
      "provenance": [],
      "collapsed_sections": [],
      "authorship_tag": "ABX9TyOrp6gx518DC3fCjQ75nzpX",
      "include_colab_link": true
    },
    "kernelspec": {
      "name": "python3",
      "display_name": "Python 3"
    },
    "language_info": {
      "name": "python"
    }
  },
  "cells": [
    {
      "cell_type": "markdown",
      "metadata": {
        "id": "view-in-github",
        "colab_type": "text"
      },
      "source": [
        "<a href=\"https://colab.research.google.com/github/KimYongHwi/ml_definitive_guide_study/blob/main/2%EC%9E%A5_numpy.ipynb\" target=\"_parent\"><img src=\"https://colab.research.google.com/assets/colab-badge.svg\" alt=\"Open In Colab\"/></a>"
      ]
    },
    {
      "cell_type": "markdown",
      "metadata": {
        "id": "fz5SxyNlt_Vl"
      },
      "source": [
        "## 머신러닝을 위한 numpy와 pandas의 중요성\n",
        "- 머신러닝 애플리케이션 구현에서 다양한 데이터의 추출/가공/변환이 상당한 영역을 차지하고 데이터 처리 부분은 대부분 numpy와 pandas를 이용한다.\n",
        "- sklearn이 numpy 기반에서 작성됐기 때문에 numpy의 기본 프레임워크를 이해하지 못하면 sklearn 역시 실제 구현에서 많은 벽에 부딪힐 수 있다.\n",
        "- sklearn은 API 구성이 매우 간결하고 직관적이여서 이를 이용한 개발 또한 상대적으로 쉽다."
      ]
    },
    {
      "cell_type": "code",
      "metadata": {
        "id": "RG0uN76pt668"
      },
      "source": [
        "import numpy as np"
      ],
      "execution_count": 1,
      "outputs": []
    },
    {
      "cell_type": "code",
      "metadata": {
        "colab": {
          "base_uri": "https://localhost:8080/"
        },
        "id": "RqT9GyzftwtK",
        "outputId": "51d87a54-38ff-4259-d11f-d5fbacc74d62"
      },
      "source": [
        "list1 = [1, 2, 3]\n",
        "print(\"list1\", list1)\n",
        "print(\"list1 type\", type(list1))\n",
        "\n",
        "array1 = np.array(list1)\n",
        "print(\"array1\", array1)\n",
        "print(\"array1 type\", type(array1))"
      ],
      "execution_count": 15,
      "outputs": [
        {
          "output_type": "stream",
          "text": [
            "list1 [1, 2, 3]\n",
            "list1 type <class 'list'>\n",
            "array1 [1 2 3]\n",
            "array1 type <class 'numpy.ndarray'>\n"
          ],
          "name": "stdout"
        }
      ]
    },
    {
      "cell_type": "markdown",
      "metadata": {
        "id": "sI58mmvJuBd0"
      },
      "source": [
        "### ndarray type\n",
        "- ndarray내의 데이터값은 숫자 값, 문자열 값, 불 값 등이 모두 가능하다.\n",
        "- 숫자형의 경우 int형, unsigned int형, float형, 그리고 이보다 더 큰 숫자 값이나 정밀도를 위해 complex 타입도 제공한다\n",
        "- ndarray내의 데이터 타입은 그 연산의 특성상 같은 데이터 타입만 가능하다.\n",
        "- ndarray내의 데이터 타입은 `ndarray.dtype`으로 확인할 수 있다."
      ]
    },
    {
      "cell_type": "markdown",
      "metadata": {
        "id": "jG2sseWVuoTx"
      },
      "source": [
        "### ndarray type 변환\n",
        "- 변경을 원하는 타입을 `astype()`에 인자로 입력\n",
        "- 대용량 데이터를 ndarray로 만들 때 메모리를 절약하기 위해 자주 사용\n",
        "- 0, 1, 2와 같이 크지 않은 범위의 숫자를 위해서 64bit float형 보다는 8bit 또는 16bit의 integer 형으로 변환하는 것이 메모리를 절약하게 됨\n",
        "- 대용량 데이터를 다룰 시 메모리 절약을 위해서 형변환을 특히 고려해야함"
      ]
    },
    {
      "cell_type": "code",
      "metadata": {
        "colab": {
          "base_uri": "https://localhost:8080/"
        },
        "id": "l_Hkgbk-uA4k",
        "outputId": "58344a7d-fff2-45a8-fcb2-a3d93a928484"
      },
      "source": [
        "list1 = [1, 2, 3]\n",
        "print(type(list1))\n",
        "array1 = np.array(list1)\n",
        "print(type(array1))\n",
        "print(array1, array1.dtype)"
      ],
      "execution_count": 22,
      "outputs": [
        {
          "output_type": "stream",
          "text": [
            "<class 'list'>\n",
            "<class 'numpy.ndarray'>\n",
            "[1 2 3] int64\n"
          ],
          "name": "stdout"
        }
      ]
    },
    {
      "cell_type": "code",
      "metadata": {
        "colab": {
          "base_uri": "https://localhost:8080/"
        },
        "id": "9Uk0cTt6ypsH",
        "outputId": "b244b123-077f-44ae-a5e4-2076105fcf69"
      },
      "source": [
        "list2 = [1, 2, 'test']\n",
        "array2 = np.array(list2)\n",
        "print(array2, array2.dtype)\n",
        "\n",
        "list3 = [1, 2, 3.0]\n",
        "array3 = np.array(list3)\n",
        "print(array3, array3.dtype)"
      ],
      "execution_count": 24,
      "outputs": [
        {
          "output_type": "stream",
          "text": [
            "['1' '2' 'test'] <U21\n",
            "[1. 2. 3.] float64\n"
          ],
          "name": "stdout"
        }
      ]
    },
    {
      "cell_type": "markdown",
      "metadata": {
        "id": "fmvgSH1GywHO"
      },
      "source": [
        "- `astype()`을 통한 타입 변환"
      ]
    },
    {
      "cell_type": "code",
      "metadata": {
        "colab": {
          "base_uri": "https://localhost:8080/"
        },
        "id": "mekVQioAyvf1",
        "outputId": "ffd0ac13-91d6-47e3-98b3-07df72e4faad"
      },
      "source": [
        "array_int = np.array([1, 2, 3])\n",
        "array_float = array_int.astype('float64')\n",
        "print(array_float, array_float.dtype)\n",
        "\n",
        "array_int1= array_float.astype('int32')\n",
        "print(array_int1, array_int1.dtype)\n",
        "\n",
        "array_float1 = np.array([1.1, 2.1, 3.1])\n",
        "array_int2= array_float1.astype('int32')\n",
        "print(array_int2, array_int2.dtype)"
      ],
      "execution_count": 26,
      "outputs": [
        {
          "output_type": "stream",
          "text": [
            "[1. 2. 3.] float64\n",
            "[1 2 3] int32\n",
            "[1 2 3] int32\n"
          ],
          "name": "stdout"
        }
      ]
    },
    {
      "cell_type": "markdown",
      "metadata": {
        "id": "vPvyfyCwvzc-"
      },
      "source": [
        "### numpy의 axis 축\n",
        "- ndarray의 shape은 행, 열, 높이 단위로 부여되는 것이 아니라 axis0, axis1, axis2와 같이 axis 단위로 부여된다.\n",
        "- axis 0: 행\n",
        "- axis 1: 열"
      ]
    },
    {
      "cell_type": "code",
      "metadata": {
        "colab": {
          "base_uri": "https://localhost:8080/"
        },
        "id": "7sJUGLKcvMpf",
        "outputId": "97d7484f-54da-46c5-8fe6-da030c2c4622"
      },
      "source": [
        "array1 = np.array([1, 2, 3])\n",
        "print('array1 type', type(array1))\n",
        "print('array1 array 형태: ', array1.shape)\n",
        "\n",
        "array2 = np.array([\n",
        "    [1, 2, 3],\n",
        "    [4, 5, 6]\n",
        "])\n",
        "print('array2 type', type(array2))\n",
        "print('array2 array 형태: ', array2.shape)\n",
        "\n",
        "array3 = np.array([[[1, 2, 3]]])\n",
        "print('array3 type', type(array3))\n",
        "print('array3 array 형태: ', array3.shape)"
      ],
      "execution_count": 17,
      "outputs": [
        {
          "output_type": "stream",
          "text": [
            "array1 type <class 'numpy.ndarray'>\n",
            "array1 array 형태:  (3,)\n",
            "array2 type <class 'numpy.ndarray'>\n",
            "array2 array 형태:  (2, 3)\n",
            "array3 type <class 'numpy.ndarray'>\n",
            "array3 array 형태:  (1, 1, 3)\n"
          ],
          "name": "stdout"
        }
      ]
    },
    {
      "cell_type": "code",
      "metadata": {
        "colab": {
          "base_uri": "https://localhost:8080/"
        },
        "id": "7R_pDvjMxtAQ",
        "outputId": "a7329eee-aeac-4b41-e4e8-d036b03d684c"
      },
      "source": [
        "print('array1: {:0}차원, array2: {:1}차원, array3: {:2}차원'.format(array1.ndim, array2.ndim, array3.ndim))"
      ],
      "execution_count": 20,
      "outputs": [
        {
          "output_type": "stream",
          "text": [
            "array1: 1차원, array2: 2차원, array3:  3차원\n"
          ],
          "name": "stdout"
        }
      ]
    },
    {
      "cell_type": "markdown",
      "metadata": {
        "id": "RNSrCrwHy-QQ"
      },
      "source": [
        "- ndarray에서 axis 기반의 연산 함수"
      ]
    },
    {
      "cell_type": "code",
      "metadata": {
        "colab": {
          "base_uri": "https://localhost:8080/"
        },
        "id": "ypFH9KMDyFjT",
        "outputId": "f9abcfe8-21fb-45d5-d082-7b17dfccf90a"
      },
      "source": [
        "array2 = np.array([\n",
        "    [1, 2, 3],\n",
        "    [4, 5, 6]\n",
        "])\n",
        "\n",
        "print('sum: ', array2.sum())\n",
        "print('sum(axis=0): ', array2.sum(axis=0)) # 행 방향 sum\n",
        "print('sum(axis=1): ', array2.sum(axis=1)) # 열 방향 sum"
      ],
      "execution_count": 28,
      "outputs": [
        {
          "output_type": "stream",
          "text": [
            "sum:  21\n",
            "sum(axis=0):  [5 7 9]\n",
            "sum(axis=1):  [ 6 15]\n"
          ],
          "name": "stdout"
        }
      ]
    },
    {
      "cell_type": "markdown",
      "metadata": {
        "id": "vIvqbd6g12Yh"
      },
      "source": [
        "### ndarray를 편리하게 생성하기\n",
        "- 특정 크기와 차원을 가진 ndarray를 연속값이나 0또는 1로 초기화 생성해야 할 경우 arange(), zeros(), ones()를 이용해 쉽게 ndarray를 생성할 수 있다.\n",
        "- 주로 테스트용 데이터를 만들거나 대규모의 데이터를 일괄적으로 초기화해야 할 경우에 사용한다.\n",
        "    "
      ]
    },
    {
      "cell_type": "code",
      "metadata": {
        "colab": {
          "base_uri": "https://localhost:8080/"
        },
        "id": "mLmH50vdzeMq",
        "outputId": "af9b403e-b9b5-4e1f-d78b-0ab348a75518"
      },
      "source": [
        "sequence_array = np.arange(10)\n",
        "print(sequence_array)\n",
        "print(sequence_array.dtype, sequence_array.shape)"
      ],
      "execution_count": 30,
      "outputs": [
        {
          "output_type": "stream",
          "text": [
            "[0 1 2 3 4 5 6 7 8 9]\n",
            "int64 (10,)\n"
          ],
          "name": "stdout"
        }
      ]
    },
    {
      "cell_type": "code",
      "metadata": {
        "colab": {
          "base_uri": "https://localhost:8080/"
        },
        "id": "CDO-lSO64gyx",
        "outputId": "8650db86-6475-42e7-81d5-591661f04d7f"
      },
      "source": [
        "zero_array = np.zeros((3, 2), dtype='int32')\n",
        "print(zero_array)\n",
        "print(zero_array.dtype, zero_array.shape)"
      ],
      "execution_count": 32,
      "outputs": [
        {
          "output_type": "stream",
          "text": [
            "[[0 0]\n",
            " [0 0]\n",
            " [0 0]]\n",
            "int32 (3, 2)\n"
          ],
          "name": "stdout"
        }
      ]
    },
    {
      "cell_type": "code",
      "metadata": {
        "colab": {
          "base_uri": "https://localhost:8080/"
        },
        "id": "rNMT6qel4tcv",
        "outputId": "429fd2ce-1047-4190-f342-74dd81128018"
      },
      "source": [
        "one_array = np.ones((3, 2))\n",
        "print(one_array)\n",
        "print(one_array.dtype, one_array.shape)"
      ],
      "execution_count": 33,
      "outputs": [
        {
          "output_type": "stream",
          "text": [
            "[[1. 1.]\n",
            " [1. 1.]\n",
            " [1. 1.]]\n",
            "float64 (3, 2)\n"
          ],
          "name": "stdout"
        }
      ]
    },
    {
      "cell_type": "markdown",
      "metadata": {
        "id": "91Q1_wLw2pLO"
      },
      "source": [
        "### ndarray의 차원과 크기를 변경하는 reshape\n",
        "- reshape는 ndarray를 특정 차원 및 형태로 변화한다.\n",
        "- reshape(-1, 5)와 같이 인자에 -1을 부여하면 -1에 해당하는 axis의 크기는 가변적이되 -1이 아닌 인자값에 해당하는 axis 크기는 인자값으로 고정하여 ndarray의 shape를 변환한다.\n",
        "- reshape()는 reshape(-1, 1), reshape(-1)과 같은 형식으로 변환이 요구되는 경우가 많은데 주로 머신러닝 API의 인자로 1차원 ndarray를 명확하게 2차원 ndarray로 변환하여 입력하기를 원하거나, 또는 그 반대의 경우가 있을 경우 reshape()을 이용하여 ndarray의 형태를 변환시켜주는데 사용된다."
      ]
    },
    {
      "cell_type": "code",
      "metadata": {
        "colab": {
          "base_uri": "https://localhost:8080/"
        },
        "id": "wqT7dVb32zai",
        "outputId": "3141d9f0-560f-4fe2-d140-69cfddf486f2"
      },
      "source": [
        "array1 = np.arange(10)\n",
        "print('array1: \\n', array1)\n",
        "print()\n",
        "array2 = array1.reshape(2, 5)\n",
        "print('array2: \\n', array2)\n",
        "print()\n",
        "array3 = array1.reshape(5, 2)\n",
        "print('array3: \\n', array3)"
      ],
      "execution_count": 41,
      "outputs": [
        {
          "output_type": "stream",
          "text": [
            "array1: \n",
            " [0 1 2 3 4 5 6 7 8 9]\n",
            "\n",
            "array2: \n",
            " [[0 1 2 3 4]\n",
            " [5 6 7 8 9]]\n",
            "\n",
            "array3: \n",
            " [[0 1]\n",
            " [2 3]\n",
            " [4 5]\n",
            " [6 7]\n",
            " [8 9]]\n"
          ],
          "name": "stdout"
        }
      ]
    },
    {
      "cell_type": "markdown",
      "metadata": {
        "id": "k8nWLb7D5WL4"
      },
      "source": [
        "- reshape()에 -1 인자값을 부여하여 특정 차원으로 고정된 가변적인 ndarray형태 변환"
      ]
    },
    {
      "cell_type": "code",
      "metadata": {
        "colab": {
          "base_uri": "https://localhost:8080/"
        },
        "id": "FDf0_Ykv48Yx",
        "outputId": "97a4f6b6-4d6e-496f-9449-c3a509bf5fec"
      },
      "source": [
        "array1 = np.arange(10)\n",
        "print(array1)\n",
        "\n",
        "# 열 axis 크기는 5로 고정하고 행 axis 크기를 이에 맞춰 자동으로 변환, 즉 (2, 5) 형태의 shape으로 변환\n",
        "array2 = array1.reshape(-1, 5)\n",
        "print('array2 shape: ', array2.shape)\n",
        "print('array2: \\n', array2)\n",
        "\n",
        "# 행 axis 크기는 5로 고정하고 열 axis 크기는 이제 맞춰 자동으로 변환, 즉 (5, 2) 형태의 shape으로 변환\n",
        "array3 = array1.reshape(5, -1)\n",
        "print('array3 shape: ', array3.shape)\n",
        "print('array3: \\n', array3)\n"
      ],
      "execution_count": 43,
      "outputs": [
        {
          "output_type": "stream",
          "text": [
            "[0 1 2 3 4 5 6 7 8 9]\n",
            "array2 shape:  (2, 5)\n",
            "array2: \n",
            " [[0 1 2 3 4]\n",
            " [5 6 7 8 9]]\n",
            "array3 shape:  (5, 2)\n",
            "array3: \n",
            " [[0 1]\n",
            " [2 3]\n",
            " [4 5]\n",
            " [6 7]\n",
            " [8 9]]\n"
          ],
          "name": "stdout"
        }
      ]
    },
    {
      "cell_type": "markdown",
      "metadata": {
        "id": "Bw-ik8fr6c23"
      },
      "source": [
        "- reshape()는 (-1, 1), (-1,)와 같은 형태로 주로 사용됨\n",
        "    - 1차원 ndarray를 2차원으로 또는 2차원 ndarray를 1차원으로 변환 시 사용"
      ]
    },
    {
      "cell_type": "code",
      "metadata": {
        "colab": {
          "base_uri": "https://localhost:8080/"
        },
        "id": "UV6_erA85uTP",
        "outputId": "902388f4-43cf-43d6-ebc4-e3f364061631"
      },
      "source": [
        "array1 = np.arange(5)\n",
        "\n",
        "# 1차원 ndarray를 2차원으로 변환하되, 열 axis크기는 반드시 1이여야 함\n",
        "array2d_1 = array1.reshape(-1, 1)\n",
        "print('array2d_1 shape: ', array2d_1.shape)\n",
        "print('array2d_1: \\n', array2d_1)\n",
        "\n",
        "# 2차원 ndarray를 1차원으로 변환\n",
        "array1d = array2d_1.reshape(-1)\n",
        "print('array1d shape: ', array1d.shape)\n",
        "print('array1d: \\n', array1d)"
      ],
      "execution_count": 47,
      "outputs": [
        {
          "output_type": "stream",
          "text": [
            "array2d_1 shape:  (5, 1)\n",
            "array2d_1: \n",
            " [[0]\n",
            " [1]\n",
            " [2]\n",
            " [3]\n",
            " [4]]\n",
            "array1d shape:  (5,)\n",
            "array1d: \n",
            " [0 1 2 3 4]\n"
          ],
          "name": "stdout"
        }
      ]
    },
    {
      "cell_type": "code",
      "metadata": {
        "id": "_YRrnVWi7C7V"
      },
      "source": [
        "# -1 을 적용하여도 변환이 불가능한 형태로의 변환을 요구할 경우 오류 발생.\n",
        "array1 = np.arange(10)\n",
        "array4 = array1.reshape(-1,4)"
      ],
      "execution_count": null,
      "outputs": []
    },
    {
      "cell_type": "code",
      "metadata": {
        "id": "JdV7nRrb7JQw"
      },
      "source": [
        "# 반드시 -1 값은 1개의 인자만 입력해야 함. \n",
        "array1.reshape(-1, -1)"
      ],
      "execution_count": null,
      "outputs": []
    },
    {
      "cell_type": "code",
      "metadata": {
        "id": "tIFOqFjM7KfS"
      },
      "source": [
        ""
      ],
      "execution_count": null,
      "outputs": []
    }
  ]
}